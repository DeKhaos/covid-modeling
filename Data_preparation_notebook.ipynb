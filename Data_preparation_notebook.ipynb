{
 "cells": [
  {
   "cell_type": "markdown",
   "id": "1595bc20-8521-46eb-bc1b-4171600490a8",
   "metadata": {},
   "source": [
    "This section is used to fill in empty or inconsistent value for better understanding of data <br>\n",
    "<b><font size=7>Table of content</font></b><br>\n",
    "<font size=3.5>\n",
    "2. [Data preparation & exploration](#2)<br>\n",
    "&emsp;2.1. [Weather data exploration](#2.1)<br>\n",
    "&emsp;&ensp;a. [Temperature](#2.1.a)<br>\n",
    "&emsp;&ensp;b. [Wind speed](#2.2.a)<br>\n",
    "&emsp;2.2. [Modeling input preprocessing](#2.2)<br>\n",
    "&emsp;&emsp;2.2.1. [VietNam data](#2.2.1)<br>\n",
    "&emsp;&emsp;&emsp;2.2.1.1. [By country grand total](#2.2.1.1)<br>\n",
    "&emsp;&emsp;&emsp;&ensp;a. [Processing raw data](#2.2.1.1.a)<br>\n",
    "&emsp;&emsp;&emsp;&ensp;b. [Processing vaccine data](#2.2.1.1.b)<br>\n",
    "&emsp;&emsp;&emsp;&ensp;c. [Processing modeling data](#2.2.1.1.c)<br>\n",
    "&emsp;&emsp;&emsp;2.2.1.2. [By each province](#2.2.1.2)<br>\n",
    "&emsp;&emsp;&emsp;&ensp;a. [Processing raw data](#2.2.1.2.a)<br>\n",
    "&emsp;&emsp;&emsp;&ensp;b. [Processing vaccine data](#2.2.1.2.b)<br>\n",
    "&emsp;&emsp;&emsp;&ensp;c. [Processing modeling data](#2.2.1.2.c)<br>\n",
    "&emsp;&emsp;2.2.2. [World data](#2.2.2)<br>\n",
    "&emsp;&emsp;&emsp;2.2.2.1. [By each country](#2.2.2.1)<br>\n",
    "&emsp;&emsp;&emsp;&ensp;a. [Processing raw data](#2.2.2.1.a)<br>\n",
    "&emsp;&emsp;&emsp;&ensp;b. [Processing vaccine data](#2.2.2.1.b)<br>\n",
    "&emsp;&emsp;&emsp;&ensp;c. [Processing modeling data](#2.2.2.1.c)<br>\n",
    "&emsp;&emsp;&emsp;2.2.2.2. [By world grand total](#2.2.2.2)<br>\n",
    "&emsp;&emsp;&emsp;&ensp;a. [Processing raw data](#2.2.2.2.a)<br>\n",
    "&emsp;&emsp;&emsp;&ensp;b. [Processing vaccine data](#2.2.2.2.b)<br>\n",
    "&emsp;&emsp;&emsp;&ensp;c. [Processing modeling data](#2.2.2.2.c)<br>    \n",
    "</font>"
   ]
  },
  {
   "cell_type": "code",
   "execution_count": null,
   "id": "473b7494-7c4f-48b4-aeb2-d1d48f9eb2f2",
   "metadata": {
    "tags": []
   },
   "outputs": [],
   "source": [
    "import numpy as np\n",
    "import pandas as pd\n",
    "from scipy import stats\n",
    "import re,os,time\n",
    "import numpy as np\n",
    "import traceback\n",
    "from functools import partial\n",
    "from multiprocessing import Manager,Pool\n",
    "from covid_science.collection import message_box\n",
    "from covid_science.preparation import read_stored_data,process_raw_infect_data,vaccinated_case\n",
    "from covid_science.c_preparation import model_initial,model_parameter\n",
    "from covid_science.modeling import fill_empty_param,reproduction_number\n",
    "from covid_science.utility_func import trim_mean\n",
    "from covid_science.workers import raw_wrapper_func,vaccine_wrapper_func"
   ]
  },
  {
   "cell_type": "markdown",
   "id": "80c55062-73ad-4701-a066-25a2b54ee762",
   "metadata": {},
   "source": [
    "<font size=10>**2.Data preparation & exploration**</font><a name=\"2\"></a><br>\n",
    "<ins><font size=6>**2.1.Weather data exploration**</font></ins><a name=\"2.1\"></a>"
   ]
  },
  {
   "cell_type": "markdown",
   "id": "05823084-0301-402c-a9fc-76349fc58b5e",
   "metadata": {},
   "source": [
    "<font size=4><ins>**a. Temperature**</ins></font><a name=\"2.1.a\"></a><br>\n",
    "* <ins>Processing</ins>"
   ]
  },
  {
   "cell_type": "code",
   "execution_count": null,
   "id": "b181deeb-3e1a-4584-ac0c-0ca49d88fd7b",
   "metadata": {},
   "outputs": [],
   "source": [
    "temp_df = pd.read_csv(\"database/Covid-19_raw_data/robust_weather_condition/average_temperature.csv\")\n",
    "temp_df = temp_df.groupby(['iso_code','Country']).mean().loc[:,'Jan':'Dec']\n",
    "temp_df = temp_df.reset_index()\n",
    "idx = pd.MultiIndex.from_product([temp_df.iso_code, range(1,13)],names=['iso_code','month'])\n",
    "temp_df = pd.DataFrame({\"temperature\":temp_df.loc[:,\"Jan\":].to_numpy().flatten()},index=idx)\n",
    "temp_df.reset_index(inplace=True)\n",
    "temp_df.sort_values(['iso_code','month'],inplace=True)\n",
    "temp_df.head(3)"
   ]
  },
  {
   "cell_type": "code",
   "execution_count": null,
   "id": "9b6d1d66-fa44-4c0c-a2fc-2dca32ad60ec",
   "metadata": {},
   "outputs": [],
   "source": [
    "df_raw = pd.read_csv(\"database/Covid-19_raw_data/OurWorldinData/covid_data_simplified.csv\",usecols=['iso_code','date','new_cases','population'],parse_dates=[\"date\"])\n",
    "df_raw['case_per_1mil']=df_raw.new_cases/(df_raw.population/1000000)\n",
    "df_raw.insert(2,'month',df_raw.date.dt.month)\n",
    "\n",
    "temp_df_processed = df_raw.groupby(['iso_code','month'])[['case_per_1mil']].mean()\n",
    "temp_df_processed = temp_df_processed.reset_index()\n",
    "temp_df_processed.sort_values(['iso_code','month'],inplace=True)\n",
    "temp_df_processed = temp_df_processed.merge(temp_df,on=['iso_code','month'])\n",
    "temp_df_processed.dropna(subset=['case_per_1mil','temperature'],inplace=True)\n",
    "temp_df_processed.head(3)"
   ]
  },
  {
   "cell_type": "markdown",
   "id": "4f63f995-0af1-4b3a-ad3b-ad1f03e2131d",
   "metadata": {},
   "source": [
    "* <ins>Correlation</ins>"
   ]
  },
  {
   "cell_type": "code",
   "execution_count": null,
   "id": "94c9d717-c4d6-4c10-99b1-d3fe380e47e0",
   "metadata": {},
   "outputs": [],
   "source": [
    "coef, p_value = stats.pearsonr(temp_df_processed.case_per_1mil,temp_df_processed.temperature)\n",
    "print(\"The Pearson Correlation Coefficient between case_per_1mil and temperature is: {}, with a P-value of: {}.\".format(coef,p_value))\n",
    "coef, p_value = stats.spearmanr(temp_df_processed.case_per_1mil,temp_df_processed.temperature)\n",
    "print(\"The Spearmanr Correlation Coefficient between case_per_1mil and temperature is: {}, with a P-value of: {}.\".format(coef,p_value))"
   ]
  },
  {
   "cell_type": "markdown",
   "id": "3a73e332-e6ef-47ba-a944-4f94bd4c92e2",
   "metadata": {},
   "source": [
    "<font size=4><ins>**b. Wind speed**</ins></font><a name=\"2.2.a\"></a><br>\n",
    "* <ins>Processing</ins>"
   ]
  },
  {
   "cell_type": "code",
   "execution_count": null,
   "id": "403d613c-62b2-4323-88a4-91da144b7ac8",
   "metadata": {},
   "outputs": [],
   "source": [
    "country_code = pd.read_excel('https://population.un.org/wpp/Download/Files/4_Metadata/WPP2022_F01_LOCATIONS.XLSX',usecols=[4,5],header=16)\\\n",
    ".rename(columns={\"ISO3 Alpha-code\":\"iso_code\",\"ISO2 Alpha-code\":\"iso2_code\"})"
   ]
  },
  {
   "cell_type": "code",
   "execution_count": null,
   "id": "5541f54e-1320-408d-b46c-8868782c2e28",
   "metadata": {},
   "outputs": [],
   "source": [
    "wind_df = pd.read_csv(\"database/Covid-19_raw_data/robust_weather_condition/average_wind_speed.csv\",usecols=[0,2,3]).rename(columns={\"Country or Territory Code\":\"iso2_code\",\n",
    "                                                                                                                          \"Annual NCDC Computed Value\":\"wind_speed\"})\n",
    "wind_df = wind_df.merge(country_code,on='iso2_code')\n",
    "wind_df.head(3)"
   ]
  },
  {
   "cell_type": "code",
   "execution_count": null,
   "id": "a3771f57-d7b2-4204-b1fb-4ada645d1f22",
   "metadata": {},
   "outputs": [],
   "source": [
    "wind_df_processed = temp_df_processed.groupby(\"iso_code\").mean()[['case_per_1mil']].reset_index()\n",
    "wind_df_processed = wind_df_processed.merge(wind_df,on='iso_code')\n",
    "wind_df_processed.head(3)"
   ]
  },
  {
   "cell_type": "markdown",
   "id": "a74389cd-b10c-4687-bee8-b5e3b00155a4",
   "metadata": {},
   "source": [
    "* <ins>Corellation</ins>"
   ]
  },
  {
   "cell_type": "code",
   "execution_count": null,
   "id": "7117546d-ae25-4f88-9ede-f6ec897aa1fa",
   "metadata": {},
   "outputs": [],
   "source": [
    "coef, p_value = stats.pearsonr(wind_df_processed.case_per_1mil,wind_df_processed.wind_speed)\n",
    "print(\"The Pearson Correlation Coefficient between case_per_1mil and wind speed is: {}, with a P-value of: {}.\".format(coef,p_value))\n",
    "coef, p_value = stats.spearmanr(wind_df_processed.case_per_1mil,wind_df_processed.wind_speed)\n",
    "print(\"The Spearmanr Correlation Coefficient between case_per_1mil and wind speed is: {}, with a P-value of: {}.\".format(coef,p_value))"
   ]
  },
  {
   "cell_type": "markdown",
   "id": "7be029f2-3a8e-4e3d-9763-08deacd17a1f",
   "metadata": {},
   "source": [
    "<font size=4><ins>**Conclusion**</ins></font><br>\n",
    "Both wind speed and environment temperature has small correlation to the transmission rate of covid-19, so they can't be used as main indicator to model covid-19 tranmission. But we can derive the following conclusions from data exploration:\n",
    "\n",
    "* With the increase of environment temperature, transmission rate tends to decrease.\n",
    "* With the increase of wind speed, transmission rate tends to increase.\n",
    "\n",
    "**Note:** These are only the conclusions after robust exploration, it can change after that."
   ]
  },
  {
   "cell_type": "markdown",
   "id": "cbecfd3b-f762-4738-a193-9f00ca4dc3d7",
   "metadata": {},
   "source": [
    "<ins><font size=6>**2.2.Modeling input preprocessing**</font></ins><a name=\"2.2\"></a><br>\n",
    "<ins><font size=5>**2.2.1.VietNam data**</font></ins><a name=\"2.2.1\"></a><br>\n",
    "<ins><font size=4>**2.2.1.1. By country grand total**</font></ins><a name=\"2.2.1.1\"></a><br>"
   ]
  },
  {
   "cell_type": "code",
   "execution_count": null,
   "id": "199a06ea-f7ad-4e8e-a510-01c35eebd5e6",
   "metadata": {},
   "outputs": [],
   "source": [
    "df_vn_population = pd.read_csv(\"database/Covid-19_raw_data/VietNamData/vietnam_population.csv\",index_col=[0,1])\n",
    "df_vn_population.loc[2019].sum(axis=1)"
   ]
  },
  {
   "cell_type": "code",
   "execution_count": null,
   "id": "5780c3b8-4748-489f-8941-35e9cabc8be0",
   "metadata": {},
   "outputs": [],
   "source": [
    "#slice raw data of death, infect case\n",
    "df_vn = read_stored_data(\"database/Covid-19_raw_data/VietNamData/Ministry_of_Health_data/total_case\",parse_dates=[\"date\"])\n",
    "df_vn_slice = df_vn.loc[df_vn.code ==\"local_case\"].copy()\n",
    "df_vn_slice.drop(axis=1,columns=['case_origin','code'],inplace=True)\n",
    "\n",
    "df_vn_death = read_stored_data(\"database/Covid-19_raw_data/VietNamData/Ministry_of_Health_data/death_data\",parse_dates=[\"date\"])\n",
    "df_vn_death = df_vn_death[[\"date\",\"VN_death_case\"]]\n",
    "\n",
    "#merge DataFrame\n",
    "df_vn_slice = df_vn_slice.merge(df_vn_death,on=\"date\")"
   ]
  },
  {
   "cell_type": "markdown",
   "id": "84671609-dc5e-4a92-9830-e45d8df9f88e",
   "metadata": {},
   "source": [
    "<font size=4><ins>**a. Processing raw data**</ins></font><a name=\"2.2.1.1.a\"></a><br>\n",
    "* <ins>Raw general input parameters</ins>"
   ]
  },
  {
   "cell_type": "code",
   "execution_count": null,
   "id": "9b8ce5d6-a92c-4d20-8b53-d04d02ac6739",
   "metadata": {},
   "outputs": [],
   "source": [
    "vn_raw_rolling = 10\n",
    "vn_trim_percent = 25\n",
    "vn_death_distribution = [0.4,0.3,0.2,0.025,0.025,0.025,0.025]\n",
    "vn_death_after = 4\n",
    "vn_death_rolling = 14\n",
    "vn_use_origin = True\n",
    "vn_recovery_distribution = [0.3,0.5,0.1,0.05,0.05]\n",
    "vn_recovery_after = 7\n",
    "\n",
    "#birth rate -- data from United Nations-Department of Economic and Social Affairs Population Division with average 2019-2021\n",
    "vn_birth_rate = (1+(15.357/1000))**(1/365)-1 #(convert to %/day)\n",
    "#death rate -- data from United Nations-Department of Economic and Social Affairs Population Division with average 2019-2021\n",
    "vn_death_rate = (1+(6.73/1000))**(1/365)-1 #(convert to %/day)\n",
    "\n",
    "# zero for fast data processing, ignore randomness\n",
    "vn_raw_method_limit=0 \n",
    "vn_raw_seed = 1"
   ]
  },
  {
   "cell_type": "markdown",
   "id": "22a8ba4b-78ee-4e0d-b304-71a51332ecf4",
   "metadata": {},
   "source": [
    "* <ins>Groups of function input parameters</ins>"
   ]
  },
  {
   "cell_type": "code",
   "execution_count": null,
   "id": "14475ee2-f86f-4aa8-a6ba-fd427a7ac08d",
   "metadata": {},
   "outputs": [],
   "source": [
    "#all shouldn't be modified\n",
    "\n",
    "#living population which affected by the disease at the chosen starting time\n",
    "vn_population = int(df_vn_population.loc[2019].sum(axis=1)['Average population(thousand)'])*1000\n",
    "\n",
    "vn_col = ['case','VN_death_case']\n",
    "vn_window_trim = [('case_avg',vn_raw_rolling,vn_trim_percent),('death_avg',vn_raw_rolling,vn_trim_percent)]\n",
    "vn_date = ['date',None]\n",
    "vn_death_input = ('death_avg','case_avg','origin_case',vn_death_distribution,{'death_after':vn_death_after})\n",
    "vn_death_per = ('origin_case','case_avg','death_percent',vn_death_rolling,vn_trim_percent)\n",
    "vn_recov_input = ('case_avg','recovery_case',vn_use_origin,vn_recovery_distribution,{'recovery_after':vn_recovery_after})\n",
    "vn_total_N = (vn_population,vn_birth_rate,vn_death_rate,'current_pol_N') "
   ]
  },
  {
   "cell_type": "markdown",
   "id": "a570da93-ae09-4cad-8b41-6b5093e35a05",
   "metadata": {},
   "source": [
    "* <ins>Processing</ins>"
   ]
  },
  {
   "cell_type": "code",
   "execution_count": null,
   "id": "d5779e36-3eac-4e8a-8246-deccc8e4f431",
   "metadata": {},
   "outputs": [],
   "source": [
    "processed_df_vn = df_vn_slice.copy()\n",
    "processed_df_vn = process_raw_infect_data(processed_df_vn,\n",
    "                                          vn_col,\n",
    "                                          vn_window_trim,\n",
    "                                          vn_date,\n",
    "                                          vn_death_input,\n",
    "                                          vn_death_per,\n",
    "                                          vn_recov_input,\n",
    "                                          vn_total_N,\n",
    "                                          method_limit=vn_raw_method_limit,\n",
    "                                          seed=vn_raw_seed)\n",
    "processed_df_vn = processed_df_vn.iloc[vn_raw_rolling-1:].reset_index(drop=True).copy() #drop ['case_avg','death_avg'] NaN rows\n",
    "processed_df_vn.head(3)"
   ]
  },
  {
   "cell_type": "markdown",
   "id": "d5b9eef7-1ecf-41b9-8202-0b651a9a70b3",
   "metadata": {},
   "source": [
    "<font size=4><ins>**b. Processing vaccine data**</ins></font><a name=\"2.2.1.1.b\"></a><br>\n",
    "* <ins>Combine vaccination data</ins>"
   ]
  },
  {
   "cell_type": "code",
   "execution_count": null,
   "id": "8af3375a-d4ae-404e-ab9c-72e292bfcae6",
   "metadata": {},
   "outputs": [],
   "source": [
    "#VN vaccination data\n",
    "df_vn_vaccine = pd.read_csv(\"database/Covid-19_raw_data/OurWorldinData/vietnam_vaccine.csv\",parse_dates=[\"date\"])\n",
    "df_vn_vaccine['new_vaccinations_smoothed'] = df_vn_vaccine['new_vaccinations_smoothed'].interpolate(method=\"linear\",limit_direction='forward').fillna(0)\n",
    "df_vn_vaccine['new_vaccinations_smoothed']=df_vn_vaccine['new_vaccinations_smoothed'].astype(np.int64)\n",
    "\n",
    "#merge df\n",
    "processed_df_vn = processed_df_vn.merge(df_vn_vaccine,on=\"date\")"
   ]
  },
  {
   "cell_type": "markdown",
   "id": "2f902660-9190-4b42-bd6f-a6e5eca50206",
   "metadata": {},
   "source": [
    "* <ins>Vaccination references:</ins> <br>\n",
    "    * https://moh.gov.vn/tin-lien-quan/-/asset_publisher/vjYyM7O9aWnX/content/-infographic-toan-bo-thong-tin-ve-8-loai-vaccine-covid-19-a-uoc-viet-nam-cap-phep-su-dung <br>\n",
    "    * https://moh.gov.vn/tin-lien-quan/-/asset_publisher/vjYyM7O9aWnX/content/-infographic-toan-bo-thong-tin-can-biet-ve-cac-loai-vaccine-covid-19-viet-nam-ang-tiem <br>\n",
    "    * https://hcdc.vn/public/img/02bf8460bf0d6384849ca010eda38cf8e9dbc4c7/images/mod1/images/tong-hop-tai-lieu-vac-xin-phong-covid19/files/Thong%20tin%20can%20biet%20ve%20vac-xin%20phong%20COVID-19%20Vero%20Cell.pdf <br>\n",
    "    * https://vnvc.vn/sinopharm/ <br>\n",
    "* <ins>Vaccine general input parameters</ins>"
   ]
  },
  {
   "cell_type": "code",
   "execution_count": null,
   "id": "0a70ceb8-579d-4a68-83ad-ea5435ff04fd",
   "metadata": {},
   "outputs": [],
   "source": [
    "vn_base_vaccine_percent = [1,1,1]\n",
    "vn_vaccine_info = ([\"Non Replicating Viral Vector\",56,14,14,150,150],\n",
    "                  [\"RNA\",28,14,14,150,150],\n",
    "                  [\"Inactivated\",28,14,14,150,150])\n",
    "vn_target_priority=None\n",
    "vn_meta_df = pd.read_csv(\"database/Covid-19_raw_data/WHO/vaccine_meta.csv\",encoding='utf-8',parse_dates=['START_DATE'])\n",
    "vn_check_dict = (vn_meta_df.loc[vn_meta_df.ISO3=='VNM']\n",
    "                  .set_index(\"PRODUCT_NAME\")[['START_DATE']]\n",
    "                  .to_dict()['START_DATE'])\n",
    "vn_vac_weight = {'Vaxzevria':(0,28),\n",
    "                'Gam-Covid-Vac':(0,0.7),\n",
    "                'CIGB-66':(0,2.2),\n",
    "                'Comirnaty':(1,40),\n",
    "                'Spikevax':(1,6),\n",
    "                'BBIBP-CorV':(2,22.6)}\n",
    "vn_other_vaccine_weight = (0,0.5)\n",
    "# zero for fast data processing, ignore randomness\n",
    "vn_vac_method_limit = 0 \n",
    "vn_vac_seed = 1"
   ]
  },
  {
   "cell_type": "markdown",
   "id": "32abaf87-11de-4d6b-a711-8948989c6794",
   "metadata": {},
   "source": [
    "* <ins>Processing</ins>"
   ]
  },
  {
   "cell_type": "code",
   "execution_count": null,
   "id": "4df7bedc-9548-4ce7-977a-f23f66c617ee",
   "metadata": {
    "tags": []
   },
   "outputs": [],
   "source": [
    "vac_distribute = vaccinated_case(vn_base_vaccine_percent,\n",
    "                                 vn_vaccine_info,\n",
    "                                 processed_df_vn.shape[0],\n",
    "                                 vn_target_priority)\n",
    "vac_distribute.estimate_vac_percent(processed_df_vn.date[0],vn_vac_weight,vn_check_dict,vn_other_vaccine_weight)\n",
    "vac_distribute.calculate_vaccine_distribution(processed_df_vn,\n",
    "                                              'new_vaccinations_smoothed',\n",
    "                                              method_limit=vn_vac_method_limit,\n",
    "                                              seed=vn_vac_seed)\n",
    "processed_df_vn.loc[:,'curr_full_vaccinated']=vac_distribute.full_immu_matrix.sum(axis=1)\n",
    "processed_df_vn.loc[:,'new_full_vaccinated']=vac_distribute.new_full_matrix.sum(axis=1)\n",
    "processed_df_vn.loc[:,'new_boost_req']=vac_distribute.new_req_boost_matrix.sum(axis=1)"
   ]
  },
  {
   "cell_type": "markdown",
   "id": "927241b1-17ea-4f24-bda6-2b4d3442d8f3",
   "metadata": {},
   "source": [
    "* <ins>Store processed raw data</ins>"
   ]
  },
  {
   "cell_type": "code",
   "execution_count": null,
   "id": "ad5932e3-cd08-4e96-9ab0-a3f8109bd9cc",
   "metadata": {},
   "outputs": [],
   "source": [
    "folder_path = \"database/Covid-19_modeling_input/VietNamData\"\n",
    "if os.path.exists(str(folder_path)):\n",
    "    pass\n",
    "else:\n",
    "    os.makedirs(str(folder_path))\n",
    "    print(\"New folder created.\")\n",
    "processed_df_vn.to_csv(folder_path +\"/\"+\"vn_processed_data.csv\",encoding=\"utf-8\",index=False)\n",
    "processed_df_vn.head(3)"
   ]
  },
  {
   "cell_type": "markdown",
   "id": "9cb4cbd3-141a-4153-bdeb-8ffe935d91b6",
   "metadata": {},
   "source": [
    "<font size=4><ins>**c. Processing modeling data**</ins></font><a name=\"2.2.1.1.c\"></a><br>\n",
    "* <ins>Modeling general input parameters</ins>"
   ]
  },
  {
   "cell_type": "code",
   "execution_count": null,
   "id": "e9ab361e-758f-4fd3-9829-376061863d3c",
   "metadata": {},
   "outputs": [],
   "source": [
    "vn_r_protect_time  = 150\n",
    "vn_s_vac_ratio = 3.0\n",
    "vn_avg_infect_t=1\n",
    "vn_avg_death_t=1\n",
    "vn_avg_recov_t=1\n",
    "vn_avg_rotate=1\n",
    "\n",
    "#fill empty parameters\n",
    "vn_avg_data=14\n",
    "vn_weights=2\n",
    "vn_include_zero=False\n",
    "\n",
    "#reproduction number parameters\n",
    "vn_p = 1.0\n",
    "vn_n = 30\n",
    "vn_trim = 25"
   ]
  },
  {
   "cell_type": "markdown",
   "id": "1ccdb7b1-493b-466a-8e56-d2cd688b222b",
   "metadata": {},
   "source": [
    "* <ins>Processing</ins>"
   ]
  },
  {
   "cell_type": "code",
   "execution_count": null,
   "id": "dbb484dd-e03c-4b8c-8839-14b4cc485366",
   "metadata": {},
   "outputs": [],
   "source": [
    "model_input_df_vn = processed_df_vn.copy()\n",
    "\n",
    "total_time_start=time.time()\n",
    "#round up average case value\n",
    "model_input_df_vn.iloc[:,[3,4]]=model_input_df_vn.iloc[:,[3,4]].apply(np.round)\n",
    "model_input_df_vn[['S0','V0','I0','D0','daily_case_non_vaccinated','daily_case_vaccinated']] = model_initial(model_input_df_vn[['case_avg','recovery_case','death_avg',\n",
    "                                                                                                                                'curr_full_vaccinated','current_pol_N']].to_numpy(),\n",
    "                                                                                                             vn_r_protect_time,\n",
    "                                                                                                             vn_s_vac_ratio)\n",
    "model_input_df_vn[['beta','beta_v','gamma','theta','alpha','alpha0']] = model_parameter(model_input_df_vn[['S0','V0','I0','death_avg','recovery_case','new_full_vaccinated',\n",
    "                                                                                                           'new_boost_req','daily_case_non_vaccinated','daily_case_vaccinated',\n",
    "                                                                                                           'current_pol_N']].to_numpy(),\n",
    "                                                                                        vn_r_protect_time,\n",
    "                                                                                        vn_avg_infect_t,vn_avg_death_t,vn_avg_recov_t,vn_avg_rotate)\n",
    "model_df_vn = model_input_df_vn[['date','S0','V0','I0','D0','beta','beta_v','gamma','theta','alpha','alpha0',\n",
    "                                 'death_avg','recovery_case','new_full_vaccinated','new_boost_req',\n",
    "                                 'daily_case_non_vaccinated','daily_case_vaccinated','current_pol_N']].copy()\n",
    "model_df_vn[['S0','V0','I0','D0']]=model_df_vn[['S0','V0','I0','D0']].astype(np.int64)\n",
    "\n",
    "#add daily recruitment rate\n",
    "model_df_vn.insert(model_df_vn.columns.get_loc(\"alpha0\")+1,\n",
    "                        'pi',\n",
    "                        ((model_df_vn[['S0','V0',\n",
    "                                      'I0','D0']].sum(axis=1))*vn_birth_rate\n",
    "                        ).astype(np.int64))\n",
    "\n",
    "#fill empty values of each columns\n",
    "model_df_vn = fill_empty_param(input_df=model_df_vn,\n",
    "                            input_col=['beta','beta_v','gamma',\n",
    "                                      'theta','alpha','alpha0'],\n",
    "                            avg_data=vn_avg_data,\n",
    "                            weights=vn_weights,\n",
    "                            include_zero=vn_include_zero)\n",
    "\n",
    "#fill remaining SVID model parameter with 0\n",
    "model_df_vn.iloc[:,model_df_vn.columns.get_loc('beta'):(model_df_vn.columns.get_loc('pi')+1)]=\\\n",
    "    model_df_vn.iloc[:,model_df_vn.columns.get_loc('beta'):(model_df_vn.columns.get_loc('pi')+1)].fillna(0)\n",
    "\n",
    "#calculate reproduction number\n",
    "model_df_vn[['daily_R0','avg_R0']]=reproduction_number(\n",
    "    input_df=model_df_vn,\n",
    "    input_col=['beta','beta_v','gamma',\n",
    "              'theta','alpha','alpha0','pi'],\n",
    "    p=vn_p,\n",
    "    mu=vn_birth_rate,\n",
    "    n=vn_n,\n",
    "    outlier_trim=vn_trim)\n",
    "\n",
    "total_time_end=time.time()\n",
    "print(\"Total process time taken:\",round(total_time_end-total_time_start,2),\"s\")"
   ]
  },
  {
   "cell_type": "markdown",
   "id": "5edbd8d2-f593-466d-9db2-19e18134f6e2",
   "metadata": {},
   "source": [
    "* <ins>Store modeling raw data</ins>"
   ]
  },
  {
   "cell_type": "code",
   "execution_count": null,
   "id": "a0be7186-aad7-4cfa-bb12-9d1dc8ad42db",
   "metadata": {},
   "outputs": [],
   "source": [
    "folder_path = \"database/Covid-19_modeling_input/VietNamData\"\n",
    "if os.path.exists(str(folder_path)):\n",
    "    pass\n",
    "else:\n",
    "    os.makedirs(str(folder_path))\n",
    "    print(\"New folder created.\")\n",
    "model_df_vn.to_csv(folder_path +\"/\"+\"vn_modeling_data.csv\",encoding=\"utf-8\",index=False)\n",
    "model_df_vn.head(3)"
   ]
  },
  {
   "cell_type": "markdown",
   "id": "cc42077f-7641-4615-8b5d-4567453b183b",
   "metadata": {},
   "source": [
    "<ins><font size=4>**2.2.1.2. By each province**</font></ins><a name=\"2.2.1.2\"></a><br>\n",
    "* <ins>Combining data</ins>"
   ]
  },
  {
   "cell_type": "code",
   "execution_count": null,
   "id": "be35fe0f-cb42-494e-9b9f-5ad7d2ee2e60",
   "metadata": {},
   "outputs": [],
   "source": [
    "vn_province_df = read_stored_data(\"database/Covid-19_raw_data/VietNamData/Ministry_of_Health_data/case_by_province\")\n",
    "\n",
    "vn_province_death_df = read_stored_data(\"database/Covid-19_raw_data/VietNamData/Ministry_of_Health_data/death_data\")\n",
    "\n",
    "vn_bp_vac_df = read_stored_data(\"database/Covid-19_raw_data/VietNamData/vaccine_distribution\")\n",
    "#determine the distribution ratio of vaccine for each province\n",
    "vn_bp_vac_df['distribution_ratio']=vn_bp_vac_df.totalVaccineAllocatedReality/vn_bp_vac_df.totalVaccineAllocatedReality.sum()\n",
    "\n",
    "date_serry = pd.Series([vn_province_df.columns[3:].to_list()]*vn_province_df.shape[0])\n",
    "case_serry = pd.Series(vn_province_df.iloc[:,3:].to_numpy().tolist())\n",
    "vn_province_df = vn_province_df.iloc[:,:3].copy()\n",
    "\n",
    "vn_province_df['date']=date_serry\n",
    "vn_province_df['new_cases']=case_serry\n",
    "\n",
    "vn_province_df = vn_province_df.explode(['date','new_cases']).copy()\n",
    "vn_province_df = vn_province_df.astype({'date':str,'new_cases':np.float64})\n",
    "vn_province_df.reset_index(drop=True)"
   ]
  },
  {
   "cell_type": "code",
   "execution_count": null,
   "id": "486a7c4b-079b-4c21-9bf8-209d359fa198",
   "metadata": {},
   "outputs": [],
   "source": [
    "vn_bp_df = pd.DataFrame()\n",
    "\n",
    "for province in vn_province_df.provinceName.unique():\n",
    "    case_data = vn_province_df.loc[vn_province_df.provinceName==province]\n",
    "    death_data = vn_province_death_df.loc[:,['date',province]].rename(columns={province:'new_deaths'})\n",
    "    \n",
    "    vac_distributed = df_vn_vaccine.copy()\n",
    "    vac_distributed.date = vac_distributed.date.astype('str')\n",
    "    vac_distributed.new_vaccinations_smoothed = (vac_distributed.new_vaccinations_smoothed*(vn_bp_vac_df.loc[vn_bp_vac_df.provinceName==province,'distribution_ratio'].values)).round()\n",
    "    \n",
    "    \n",
    "    dummy_df = pd.merge(case_data,death_data,on='date',how='outer')\n",
    "    dummy_df = pd.merge(dummy_df,vac_distributed,on='date',how='left')\n",
    "    vn_bp_df = pd.concat([vn_bp_df,dummy_df],ignore_index=True)\n",
    "vn_bp_df.date = pd.to_datetime(vn_bp_df.date)\n",
    "vn_bp_df.drop(columns=\"population\",inplace=True)\n",
    "vn_bp_df = vn_bp_df[['date','id','provinceName','new_cases','new_deaths','new_vaccinations_smoothed']]\n",
    "vn_bp_df.head(3)"
   ]
  },
  {
   "cell_type": "markdown",
   "id": "840c8ddf-9e28-477a-a6bf-76dd3efb6391",
   "metadata": {},
   "source": [
    "<font size=4><ins>**a. Processing raw data**</ins></font><a name=\"2.2.1.2.a\"></a><br>\n",
    "* <ins>Raw general input parameters</ins>"
   ]
  },
  {
   "cell_type": "code",
   "execution_count": null,
   "id": "73aa7ce7-a28f-4bfb-968c-7d976a1d0142",
   "metadata": {},
   "outputs": [],
   "source": [
    "vn_bp_raw_rolling = 10\n",
    "vn_bp_trim_percent = 25\n",
    "vn_bp_death_distribution = [0.4,0.3,0.2,0.025,0.025,0.025,0.025]\n",
    "vn_bp_death_after = 4\n",
    "vn_bp_death_rolling = 14\n",
    "vn_bp_use_origin = True\n",
    "vn_bp_recovery_distribution = [0.3,0.5,0.1,0.05,0.05]\n",
    "vn_bp_recovery_after = 7\n",
    "\n",
    "# zero for fast data processing, ignore randomness\n",
    "vn_bp_raw_method_limit=0\n",
    "vn_bp_raw_seed = 1\n",
    "vn_bp_auto_fill_col = ['id','provinceName']\n",
    "\n",
    "vn_bp_max_worker = 6"
   ]
  },
  {
   "cell_type": "markdown",
   "id": "13bd620d-bd48-48c8-ae10-e8701dac93c2",
   "metadata": {},
   "source": [
    "* <ins>Processing</ins>"
   ]
  },
  {
   "cell_type": "code",
   "execution_count": null,
   "id": "2030c5f8-4814-4582-93e5-42ce9e87e590",
   "metadata": {},
   "outputs": [],
   "source": [
    "start_cell = time.perf_counter()\n",
    "\n",
    "vn_bp_manager = Manager()\n",
    "vn_bp_counter= vn_bp_manager.Array('i',[0,0,0,0])\n",
    "vn_bp_time_list = vn_bp_manager.list([])\n",
    "vn_bp_error_dict = vn_bp_manager.dict()\n",
    "vn_bp_shared_output = vn_bp_manager.Namespace()\n",
    "vn_bp_shared_output.shared_df = pd.DataFrame()\n",
    "vn_bp_lock = vn_bp_manager.Lock()\n",
    "\n",
    "#list of province code\n",
    "province_code = vn_bp_df.id.unique()\n",
    "\n",
    "#worker function\n",
    "worker_func = partial(raw_wrapper_func,\n",
    "                      shared_count=vn_bp_counter,\n",
    "                      time_list=vn_bp_time_list,\n",
    "                      error_dict=vn_bp_error_dict,\n",
    "                      shared_output=vn_bp_shared_output,\n",
    "                      lock=vn_bp_lock,\n",
    "                      input_data=(vn_bp_df,'id'),\n",
    "                      birth_data=vn_birth_rate,\n",
    "                      death_data=vn_death_rate,\n",
    "                      population_data=(vn_province_df[['id','provinceName','population']].drop_duplicates(ignore_index=True),'id','population'),\n",
    "                      raw_rolling=vn_bp_raw_rolling,\n",
    "                      trim_percent=vn_bp_trim_percent,\n",
    "                      death_distribution=vn_bp_death_distribution,\n",
    "                      death_after=vn_bp_death_after,\n",
    "                      death_rolling=vn_bp_death_rolling,\n",
    "                      use_origin=vn_bp_use_origin,\n",
    "                      recovery_distribution=vn_bp_recovery_distribution,\n",
    "                      recovery_after=vn_bp_recovery_after,\n",
    "                      raw_method_limit=vn_bp_raw_method_limit,\n",
    "                      raw_seed=vn_bp_raw_seed,\n",
    "                      auto_fill_col=vn_bp_auto_fill_col\n",
    "                      )\n",
    "\n",
    "executor= Pool(processes=vn_bp_max_worker)\n",
    "start_worker = time.perf_counter()\n",
    "pool_result = executor.map_async(worker_func,province_code)\n",
    "\n",
    "max_province = len(province_code)\n",
    "while vn_bp_counter[0]<max_province:\n",
    "    time.sleep(1)\n",
    "    n_done = vn_bp_counter[0]\n",
    "    n_wait = max_province\n",
    "    total_time = round(sum(vn_bp_time_list),2)\n",
    "    if n_done!=0:\n",
    "        avg_time = round(total_time/n_done,2)\n",
    "    \n",
    "    if n_done!=0:\n",
    "        remain_province = n_wait - n_done\n",
    "        remain_time = round(remain_province*avg_time,2)\n",
    "        real_remain = round(remain_time/vn_bp_max_worker,2)\n",
    "    else:\n",
    "        remain_province= \"estimating...\"\n",
    "        remain_time = \"-- \"\n",
    "        real_remain = \"-- \"\n",
    "        \n",
    "    elapsed_time = round(time.perf_counter()-start_worker,2)\n",
    "    a_string = (f\"Elapsed time: {elapsed_time}s    \" +\n",
    "                f\"Total workers processing time: {total_time}s    \" + \n",
    "                f\" Remaining provinces: {remain_province}    \" + \n",
    "                f\" Estimated remaining worker time: {remain_time}s    \" +\n",
    "                f\" Estimated remaining real time: {real_remain}s\")\n",
    "    \n",
    "    print(\" \"*(len(a_string)+10),end=\"\\r\")\n",
    "    print(a_string,end=\"\\r\")\n",
    "\n",
    "print(\" \"*(len(a_string)+10),end=\"\\r\")\n",
    "print(\"---VietNam raw data processing completed---\")\n",
    "print(f\"Number of provinces without/insufficient census data: {vn_bp_counter[1]}\")\n",
    "print(f\"Number of provinces with empty raw DataFrame: {vn_bp_counter[2]}\")\n",
    "print(f\"Number of workers with error happened: {vn_bp_counter[3]}\")\n",
    "print(f\"Total worker processing time taken: {round(sum(vn_bp_time_list),2)}s\")\n",
    "\n",
    "vn_bp_processed_df = vn_bp_shared_output.shared_df.copy()\n",
    "vn_bp_processed_df = vn_bp_processed_df.sort_values(['provinceName','date']).reset_index(drop=True)\n",
    "vn_bp_raw_error_result = dict(vn_bp_error_dict)\n",
    "vn_bp_raw_time = list(vn_bp_time_list)\n",
    "\n",
    "executor.close()\n",
    "executor.join()\n",
    "vn_bp_manager.shutdown()\n",
    "\n",
    "end_cell = time.perf_counter()\n",
    "print(f\"Total elapsed time on this code block: {round(end_cell-start_cell,2)}s\")\n"
   ]
  },
  {
   "cell_type": "markdown",
   "id": "b44034cf-1749-41b9-a3b6-ce238a95ed5f",
   "metadata": {},
   "source": [
    "<font size=4><ins>**b. Processing vaccine data**</ins></font><a name=\"2.2.1.2.b\"></a><br>\n",
    "* <ins>Vaccine general input parameters</ins>"
   ]
  },
  {
   "cell_type": "code",
   "execution_count": null,
   "id": "bc5ac34b-a4cc-4c74-96a8-641b5ee7d74a",
   "metadata": {},
   "outputs": [],
   "source": [
    "vn_bp_base_vaccine_percent = [1,1,1]\n",
    "vn_bp_vaccine_info = vn_vaccine_info\n",
    "vn_bp_target_priority= None\n",
    "vn_bp_vac_weight = {'Vaxzevria':(0,28),\n",
    "                   'Gam-Covid-Vac':(0,0.7),\n",
    "                    'CIGB-66':(0,2.2),\n",
    "                    'Comirnaty':(1,40),\n",
    "                    'Spikevax':(1,6),\n",
    "                    'BBIBP-CorV':(2,22.6)}\n",
    "vn_bp_other_vaccine_weight = (0,0.5)\n",
    "vn_bp_vac_meta_input = (pd.read_csv(\"database/Covid-19_raw_data/WHO/vaccine_meta.csv\",encoding='utf-8',parse_dates=['START_DATE']),'VNM')\n",
    "# zero for fast data processing, ignore randomness\n",
    "vn_bp_vac_method_limit = 0 \n",
    "vn_bp_vac_seed = 1"
   ]
  },
  {
   "cell_type": "markdown",
   "id": "b360a96e-22b9-4afc-a50c-e9eec3761980",
   "metadata": {},
   "source": [
    "* <ins>Processing</ins>"
   ]
  },
  {
   "cell_type": "code",
   "execution_count": null,
   "id": "912f8776-97b7-42eb-91a2-d4c00e624da9",
   "metadata": {},
   "outputs": [],
   "source": [
    "start_cell = time.perf_counter()\n",
    "\n",
    "vn_bp_manager = Manager()\n",
    "vn_bp_counter= vn_bp_manager.Array('i',[0,0])\n",
    "vn_bp_time_list = vn_bp_manager.list([])\n",
    "vn_bp_error_dict = vn_bp_manager.dict()\n",
    "vn_bp_shared_output = vn_bp_manager.Namespace()\n",
    "vn_bp_shared_output.shared_df = pd.DataFrame()\n",
    "vn_bp_lock = vn_bp_manager.Lock()\n",
    "\n",
    "#list of province code\n",
    "province_code = vn_bp_processed_df.id.unique()\n",
    "\n",
    "#worker function\n",
    "worker_func = partial(vaccine_wrapper_func,\n",
    "                      shared_count=vn_bp_counter,\n",
    "                      time_list=vn_bp_time_list,\n",
    "                      error_dict=vn_bp_error_dict,\n",
    "                      shared_output=vn_bp_shared_output,\n",
    "                      lock=vn_bp_lock,\n",
    "                      input_data = (vn_bp_processed_df.copy(),'id'),\n",
    "                      vac_meta_data=vn_bp_vac_meta_input,\n",
    "                      vaccine_info=vn_bp_vaccine_info,\n",
    "                      base_vaccine_percent=vn_bp_base_vaccine_percent,\n",
    "                      target_priority=vn_bp_target_priority,\n",
    "                      vac_weight=vn_bp_vac_weight,\n",
    "                      other_vaccine_weight=vn_bp_other_vaccine_weight,\n",
    "                      vac_method_limit=vn_bp_vac_method_limit,\n",
    "                      vac_seed=vn_bp_vac_seed)\n",
    "\n",
    "executor= Pool(processes=vn_bp_max_worker)\n",
    "start_worker = time.perf_counter()\n",
    "pool_result = executor.map_async(worker_func,province_code)\n",
    "\n",
    "max_province = len(province_code)\n",
    "\n",
    "while vn_bp_counter[0]<max_province:\n",
    "    time.sleep(1)\n",
    "    n_done = vn_bp_counter[0]\n",
    "    n_wait = max_province\n",
    "    total_time = round(sum(vn_bp_time_list),2)\n",
    "    if n_done!=0:\n",
    "        avg_time = round(total_time/n_done,2)\n",
    "    \n",
    "    if n_done!=0:\n",
    "        remain_province = n_wait - n_done\n",
    "        remain_time = round(remain_province*avg_time,2)\n",
    "        real_remain = round(remain_time/vn_bp_max_worker,2)\n",
    "    else:\n",
    "        remain_province = \"estimating...\"\n",
    "        remain_time = \"-- \"\n",
    "        real_remain = \"-- \"\n",
    "        \n",
    "    elapsed_time = round(time.perf_counter()-start_worker,2)\n",
    "    a_string = (f\"Elapsed time: {elapsed_time}s    \" +\n",
    "                f\"Total workers processing time: {total_time}s    \" + \n",
    "                f\" Remaining provinces: {remain_province}    \" + \n",
    "                f\" Estimated remaining worker time: {remain_time}s    \" +\n",
    "                f\" Estimated remaining real time: {real_remain}s\")\n",
    "    \n",
    "    print(\" \"*(len(a_string)+10),end=\"\\r\")\n",
    "    print(a_string,end=\"\\r\")\n",
    "    \n",
    "print(\" \"*(len(a_string)+10),end=\"\\r\")\n",
    "print(\"---Vaccine data processing completed---\")\n",
    "print(f\"Number of workers with error happened: {vn_bp_counter[1]}\")\n",
    "print(f\"Total worker processing time taken: {round(sum(vn_bp_time_list),2)}s\")\n",
    "\n",
    "vn_bp_processed_df = vn_bp_shared_output.shared_df.copy()\n",
    "vn_bp_processed_df = vn_bp_processed_df.sort_values(['provinceName','date']).reset_index(drop=True)\n",
    "vn_bp_vaccine_error_result = dict(vn_bp_error_dict)\n",
    "vn_bp_vaccine_time = list(vn_bp_time_list)\n",
    "\n",
    "executor.close()\n",
    "executor.join()\n",
    "vn_bp_manager.shutdown()\n",
    "\n",
    "end_cell = time.perf_counter()\n",
    "print(f\"Total elapsed time on this code block: {round(end_cell-start_cell,2)}s\")"
   ]
  },
  {
   "cell_type": "markdown",
   "id": "69d9415a-ec98-46c5-a721-b8ad66f9b808",
   "metadata": {},
   "source": [
    "* <ins>Store processed raw data</ins>"
   ]
  },
  {
   "cell_type": "code",
   "execution_count": null,
   "id": "69797859-63ca-4559-8f50-4c2b91c94eb6",
   "metadata": {},
   "outputs": [],
   "source": [
    "folder_path = \"database/Covid-19_modeling_input/VietNamData\"\n",
    "if os.path.exists(str(folder_path)):\n",
    "    pass\n",
    "else:\n",
    "    os.makedirs(str(folder_path))\n",
    "    print(\"New folder created.\")\n",
    "vn_bp_processed_df.to_csv(folder_path +\"/\"+\"vn_processed_data_by_province.csv\",encoding=\"utf-8\",index=False)\n",
    "vn_bp_processed_df.head(3)"
   ]
  },
  {
   "cell_type": "markdown",
   "id": "7d0add9c-7a2f-4621-becf-0919e8ed2bcb",
   "metadata": {},
   "source": [
    "<font size=4><ins>**c. Processing modeling data**</ins></font><a name=\"2.2.1.2.c\"></a><br>\n",
    "* <ins>Modeling general input parameters</ins>"
   ]
  },
  {
   "cell_type": "code",
   "execution_count": null,
   "id": "db569267-b97b-441b-a2a9-d91983072991",
   "metadata": {},
   "outputs": [],
   "source": [
    "vn_bp_r_protect_time  = 150\n",
    "vn_bp_s_vac_ratio = 3.0\n",
    "vn_bp_avg_infect_t= 1\n",
    "vn_bp_avg_death_t= 1\n",
    "vn_bp_avg_recov_t= 1\n",
    "vn_bp_avg_rotate= 1\n",
    "\n",
    "#fill empty parameters\n",
    "vn_bp_avg_data=14\n",
    "vn_bp_weights=2\n",
    "vn_bp_include_zero=False\n",
    "\n",
    "#reproduction number parameters\n",
    "vn_bp_p = 1.0\n",
    "vn_bp_n = 30\n",
    "vn_bp_trim = 25"
   ]
  },
  {
   "cell_type": "markdown",
   "id": "90694c47-63ca-49f9-b923-e27a5f58383b",
   "metadata": {},
   "source": [
    "* <ins>Processing</ins>"
   ]
  },
  {
   "cell_type": "code",
   "execution_count": null,
   "id": "b89b700a-e1ab-473d-86a7-5a9198e3b2c2",
   "metadata": {},
   "outputs": [],
   "source": [
    "counter=0\n",
    "total_s=0\n",
    "vn_bp_model_input_df = vn_bp_processed_df.copy()\n",
    "vn_bp_model_df = pd.DataFrame()\n",
    "total_time_start=time.time()\n",
    "for code in province_code:\n",
    "    start = time.time()\n",
    "    \n",
    "    dummy_df = vn_bp_model_input_df.loc[vn_bp_model_input_df['id']==code].reset_index(drop=True)\n",
    "    dummy_df.iloc[:,[6,7]]=dummy_df.iloc[:,[6,7]].apply(np.round)\n",
    "    dummy_df[['S0','V0','I0','D0','daily_case_non_vaccinated','daily_case_vaccinated']] = model_initial(dummy_df[['case_avg','recovery_case','death_avg','curr_full_vaccinated',\n",
    "                                                                                                                  'current_pol_N']].to_numpy(),\n",
    "                                                                                                        vn_bp_r_protect_time,\n",
    "                                                                                                        vn_bp_s_vac_ratio)\n",
    "    dummy_df[['beta','beta_v','gamma','theta','alpha','alpha0']] = model_parameter(dummy_df[['S0','V0','I0','death_avg','recovery_case','new_full_vaccinated','new_boost_req',\n",
    "                                                                                             'daily_case_non_vaccinated','daily_case_vaccinated','current_pol_N']].to_numpy(),\n",
    "                                                                                    vn_bp_r_protect_time,\n",
    "                                                                                    vn_bp_avg_infect_t,\n",
    "                                                                                    vn_bp_avg_death_t,\n",
    "                                                                                    vn_bp_avg_recov_t,\n",
    "                                                                                    vn_bp_avg_rotate)\n",
    "    \n",
    "    concat_df = dummy_df[['date','id','provinceName','S0','V0','I0','D0','beta','beta_v','gamma','theta','alpha','alpha0',\n",
    "                          'death_avg','recovery_case','new_full_vaccinated','new_boost_req','daily_case_non_vaccinated',\n",
    "                          'daily_case_vaccinated','current_pol_N']].copy()\n",
    "    concat_df[['S0','V0','I0','D0']]=concat_df[['S0','V0','I0','D0']].astype(np.int64)\n",
    "        \n",
    "    #add daily recruitment rate\n",
    "    concat_df.insert(concat_df.columns.get_loc(\"alpha0\")+1,\n",
    "                            'pi',\n",
    "                            ((concat_df[['S0','V0',\n",
    "                                          'I0','D0']].sum(axis=1))*vn_birth_rate\n",
    "                            ).astype(np.int64))\n",
    "    \n",
    "    #fill empty values of each columns\n",
    "    concat_df = fill_empty_param(input_df=concat_df,\n",
    "                                input_col=['beta','beta_v','gamma',\n",
    "                                          'theta','alpha','alpha0'],\n",
    "                                avg_data=vn_bp_avg_data,\n",
    "                                weights=vn_bp_weights,\n",
    "                                include_zero=vn_bp_include_zero)\n",
    "    \n",
    "    #fill remaining SVID model parameter with 0\n",
    "    concat_df.iloc[:,concat_df.columns.get_loc('beta'):(concat_df.columns.get_loc('pi')+1)]=\\\n",
    "        concat_df.iloc[:,concat_df.columns.get_loc('beta'):(concat_df.columns.get_loc('pi')+1)].fillna(0)\n",
    "    \n",
    "    #calculate reproduction number\n",
    "    concat_df[['daily_R0','avg_R0']]=reproduction_number(\n",
    "        input_df=concat_df,\n",
    "        input_col=['beta','beta_v','gamma',\n",
    "                  'theta','alpha','alpha0','pi'],\n",
    "        p=vn_bp_p,\n",
    "        mu=vn_death_rate,\n",
    "        n=vn_bp_n,\n",
    "        outlier_trim=vn_bp_trim)\n",
    "    \n",
    "    \n",
    "    vn_bp_model_df = pd.concat([vn_bp_model_df,concat_df],ignore_index=True)\n",
    "    \n",
    "    end=time.time()\n",
    "    counter += 1\n",
    "    total_s = total_s + end - start\n",
    "    avg = total_s/counter\n",
    "    print(f\"Estimated remaining processing time: {round(avg*(province_code.shape[0]-counter),2)}s   \",end='\\r')\n",
    "total_time_end=time.time()\n",
    "print(\"\")\n",
    "print(\"Total process time taken:\",round(total_time_end-total_time_start,2),\"s\")"
   ]
  },
  {
   "cell_type": "markdown",
   "id": "2a46ed48-f491-4e86-aa6f-b9652462beb7",
   "metadata": {},
   "source": [
    "* <ins>Store modeling raw data</ins>"
   ]
  },
  {
   "cell_type": "code",
   "execution_count": null,
   "id": "7c734ff5-99c2-443d-b1e2-1627c60becf4",
   "metadata": {},
   "outputs": [],
   "source": [
    "folder_path = \"database/Covid-19_modeling_input/VietNamData\"\n",
    "if os.path.exists(str(folder_path)):\n",
    "    pass\n",
    "else:\n",
    "    os.makedirs(str(folder_path))\n",
    "    print(\"New folder created.\")\n",
    "vn_bp_model_df.to_csv(folder_path +\"/\"+\"vn_modeling_data_by_province.csv\",encoding=\"utf-8\",index=False)\n",
    "vn_bp_model_df.head(3)"
   ]
  },
  {
   "cell_type": "markdown",
   "id": "109298e2-80c0-469a-a6d2-d36efaee4339",
   "metadata": {},
   "source": [
    "<ins><font size=5>**2.2.2.World data**</font></ins><a name=\"2.2.2\"></a><br>\n",
    "* <ins>Census data input parameters</ins>"
   ]
  },
  {
   "cell_type": "code",
   "execution_count": null,
   "id": "3765c242-f941-4e71-960e-6aa955e3da74",
   "metadata": {},
   "outputs": [],
   "source": [
    "#use the mean of birth and death rate from a number of years\n",
    "mean_years = range(2019,2022)\n",
    "#start year of population usage\n",
    "p_year = 2019 #since covid started in 2019"
   ]
  },
  {
   "cell_type": "markdown",
   "id": "93ba79db-22db-486d-80cc-199fd1da7bf8",
   "metadata": {},
   "source": [
    "* <ins>Processing</ins>"
   ]
  },
  {
   "cell_type": "code",
   "execution_count": null,
   "id": "2a58d99d-98ec-4919-abbd-133dbd85575c",
   "metadata": {},
   "outputs": [],
   "source": [
    "bc_df = pd.read_csv(\"database/Covid-19_raw_data/OurWorldinData/covid_data_simplified.csv\",parse_dates=[\"date\"])\n",
    "bc_input_df = bc_df[['date','iso_code','continent','location','new_cases','new_deaths','new_vaccinations_smoothed']].copy()\n",
    "bc_input_df.head()"
   ]
  },
  {
   "cell_type": "code",
   "execution_count": null,
   "id": "a1b09374-77ff-46fb-af5c-3b7da7ae132c",
   "metadata": {},
   "outputs": [],
   "source": [
    "#getting iso_code of census data\n",
    "\n",
    "try:    \n",
    "    folder_path = \"database/Covid-19_raw_data/iso3-code\"\n",
    "\n",
    "    if os.path.exists(str(folder_path)):\n",
    "        pass\n",
    "    else:\n",
    "        os.makedirs(str(folder_path))\n",
    "        print(\"New folder created.\")\n",
    "    if os.path.exists(folder_path + \"/iso3_code.csv\"):\n",
    "        answer = message_box(\"Data collection\",\"ISO3-code has been collect. Do you want to redownload the ISO-code?\",4 + 32 + 4096)\n",
    "        if answer == 6:\n",
    "            meta_code = pd.read_excel('https://population.un.org/wpp/Download/Files/4_Metadata/WPP2022_F01_LOCATIONS.XLSX',usecols=[1,3,4],header=16)\n",
    "            print(\"Data collected.\")\n",
    "            display(meta_code.head(3))\n",
    "            meta_code.to_csv(folder_path + \"/iso3_code.csv\",encoding=\"utf-8\",index=False)\n",
    "        else:\n",
    "            meta_code = pd.read_csv(folder_path + \"/iso3_code.csv\")\n",
    "    else:\n",
    "        meta_code = pd.read_excel('https://population.un.org/wpp/Download/Files/4_Metadata/WPP2022_F01_LOCATIONS.XLSX',usecols=[1,3,4],header=16)\n",
    "        print(\"Data collected.\")\n",
    "        display(meta_code.head(3))\n",
    "        meta_code.to_csv(folder_path + \"/iso3_code.csv\",encoding=\"utf-8\",index=False)\n",
    "except Exception:\n",
    "    traceback.print_exc()"
   ]
  },
  {
   "cell_type": "code",
   "execution_count": null,
   "id": "8c2631ce-05cf-48ab-9c3d-cb1a7ddd8872",
   "metadata": {},
   "outputs": [],
   "source": [
    "birth_df = pd.read_csv('database/Covid-19_raw_data/census_data/crude_birth_rate.csv',encoding='utf-8',\n",
    "                        usecols=['Region, subregion, country or area *',\n",
    "                                 'Location code',\n",
    "                                 'ISO3 Alpha-code',\n",
    "                                 'Year',\n",
    "                                 'Crude Birth Rate (births per 1,000 population)'])\n",
    "birth_df = birth_df.loc[birth_df.Year.isin(mean_years),['Region, subregion, country or area *',\n",
    "                                                        'Location code',\n",
    "                                                        'ISO3 Alpha-code',\n",
    "                                                        'Crude Birth Rate (births per 1,000 population)']].copy()\n",
    "birth_df = birth_df.groupby(['Region, subregion, country or area *',\n",
    "                             'Location code',\n",
    "                             'ISO3 Alpha-code'], dropna=False).mean().reset_index()\n",
    "birth_df.head(3) # number per 1000 person "
   ]
  },
  {
   "cell_type": "code",
   "execution_count": null,
   "id": "78602dea-a126-476d-a14e-becdde1db99a",
   "metadata": {},
   "outputs": [],
   "source": [
    "death_df = pd.read_csv('database/Covid-19_raw_data/census_data/crude_death_rate.csv',encoding='utf-8',\n",
    "                       usecols=['Region, subregion, country or area *',\n",
    "                                'Location code',\n",
    "                                'ISO3 Alpha-code',\n",
    "                                'Year',\n",
    "                                'Crude Death Rate (deaths per 1,000 population)'])\n",
    "death_df = death_df.loc[death_df.Year.isin(mean_years),['Region, subregion, country or area *',\n",
    "                                                        'Location code',\n",
    "                                                        'ISO3 Alpha-code',\n",
    "                                                        'Crude Death Rate (deaths per 1,000 population)']].copy()\n",
    "death_df = death_df.groupby(['Region, subregion, country or area *',\n",
    "                             'Location code',\n",
    "                             'ISO3 Alpha-code'], dropna=False).mean().reset_index()\n",
    "death_df.head(3) # number per 1000 person "
   ]
  },
  {
   "cell_type": "code",
   "execution_count": null,
   "id": "14565fb4-63aa-4c83-9fb1-cc73d78fad76",
   "metadata": {},
   "outputs": [],
   "source": [
    "population_df = pd.read_csv('database/Covid-19_raw_data/census_data/population.csv',encoding='utf-8',\n",
    "                            usecols=['Region, subregion, country or area *',\n",
    "                                     'Location code',\n",
    "                                     'ISO3 Alpha-code',\n",
    "                                     'Year',\n",
    "                                     'Total Population, as of 1 January (thousands)'])\n",
    "population_df = population_df.loc[population_df.Year==p_year].copy().reset_index(drop=True)\n",
    "population_df['Total Population, as of 1 January'] = population_df['Total Population, as of 1 January (thousands)']*1000\n",
    "population_df.head(3)\n"
   ]
  },
  {
   "cell_type": "markdown",
   "id": "d25ef482-f003-4843-8ed3-3ea8fd7fa676",
   "metadata": {},
   "source": [
    "<ins><font size=4>**2.2.2.1. By each country**</font></ins><a name=\"2.2.2.1\"></a><br>\n",
    "<font size=3.5><ins>**a. Processing raw data**</ins></font><a name=\"2.2.2.1.a\"></a><br>\n",
    "* <ins>Raw general input parameters</ins>"
   ]
  },
  {
   "cell_type": "code",
   "execution_count": null,
   "id": "17fe785a-b4b3-4d00-b915-052c3565b18a",
   "metadata": {},
   "outputs": [],
   "source": [
    "bc_raw_rolling = 10\n",
    "bc_trim_percent = 25\n",
    "bc_death_distribution = [0.4,0.3,0.2,0.025,0.025,0.025,0.025]\n",
    "bc_death_after = 4\n",
    "bc_death_rolling = 14\n",
    "bc_use_origin = True\n",
    "bc_recovery_distribution = [0.3,0.5,0.1,0.05,0.05]\n",
    "bc_recovery_after = 7\n",
    "\n",
    "# zero for fast data processing, ignore randomness\n",
    "bc_raw_method_limit=0\n",
    "bc_raw_seed = 1\n",
    "bc_auto_fill_col = ['iso_code','continent','location']\n",
    "\n",
    "bc_max_worker = 6"
   ]
  },
  {
   "cell_type": "markdown",
   "id": "d29102ab-a562-4f59-8a3a-6cb36e97a071",
   "metadata": {},
   "source": [
    "* <ins>Processing</ins>"
   ]
  },
  {
   "cell_type": "code",
   "execution_count": null,
   "id": "209d3dfc-ff02-4fdf-aba5-1066bc05bf79",
   "metadata": {
    "tags": []
   },
   "outputs": [],
   "source": [
    "start_cell = time.perf_counter()\n",
    "\n",
    "bc_manager = Manager()\n",
    "bc_counter= bc_manager.Array('i',[0,0,0,0])\n",
    "bc_time_list = bc_manager.list([])\n",
    "bc_error_dict = bc_manager.dict()\n",
    "bc_shared_output = bc_manager.Namespace()\n",
    "bc_shared_output.shared_df = pd.DataFrame()\n",
    "bc_lock = bc_manager.Lock()\n",
    "\n",
    "#list of country iso_code\n",
    "raw_code = bc_input_df.iso_code.unique()\n",
    "\n",
    "#worker function\n",
    "worker_func = partial(raw_wrapper_func,\n",
    "                      shared_count=bc_counter,\n",
    "                      time_list=bc_time_list,\n",
    "                      error_dict=bc_error_dict,\n",
    "                      shared_output=bc_shared_output,\n",
    "                      lock=bc_lock,\n",
    "                      input_data=(bc_input_df,'iso_code'),\n",
    "                      birth_data=(birth_df,'ISO3 Alpha-code','Crude Birth Rate (births per 1,000 population)'),\n",
    "                      death_data=(death_df,'ISO3 Alpha-code','Crude Death Rate (deaths per 1,000 population)'),\n",
    "                      population_data=(population_df,'ISO3 Alpha-code','Total Population, as of 1 January'),\n",
    "                      raw_rolling=bc_raw_rolling,\n",
    "                      trim_percent=bc_trim_percent,\n",
    "                      death_distribution=bc_death_distribution,\n",
    "                      death_after=bc_death_after,\n",
    "                      death_rolling=bc_death_rolling,\n",
    "                      use_origin=bc_use_origin,\n",
    "                      recovery_distribution=bc_recovery_distribution,\n",
    "                      recovery_after=bc_recovery_after,\n",
    "                      raw_method_limit=bc_raw_method_limit,\n",
    "                      raw_seed=bc_raw_seed,\n",
    "                      auto_fill_col=bc_auto_fill_col\n",
    "                      )\n",
    "\n",
    "executor= Pool(processes=bc_max_worker)\n",
    "start_worker = time.perf_counter()\n",
    "pool_result = executor.map_async(worker_func,raw_code)\n",
    "\n",
    "max_country = bc_input_df.iso_code.unique().shape[0]\n",
    "while bc_counter[0]<max_country:\n",
    "    time.sleep(1)\n",
    "    n_done = bc_counter[0]\n",
    "    n_wait = max_country\n",
    "    total_time = round(sum(bc_time_list),2)\n",
    "    if n_done!=0:\n",
    "        avg_time = round(total_time/n_done,2)\n",
    "    \n",
    "    if n_done!=0:\n",
    "        remain_country = n_wait - n_done\n",
    "        remain_time = round(remain_country*avg_time,2)\n",
    "        real_remain = round(remain_time/bc_max_worker,2)\n",
    "    else:\n",
    "        remain_country = \"estimating...\"\n",
    "        remain_time = \"-- \"\n",
    "        real_remain = \"-- \"\n",
    "        \n",
    "    elapsed_time = round(time.perf_counter()-start_worker,2)\n",
    "    a_string = (f\"Elapsed time: {elapsed_time}s    \" +\n",
    "                f\"Total workers processing time: {total_time}s    \" + \n",
    "                f\" Remaining countries: {remain_country}    \" + \n",
    "                f\" Estimated remaining worker time: {remain_time}s    \" +\n",
    "                f\" Estimated remaining real time: {real_remain}s\")\n",
    "    \n",
    "    print(\" \"*(len(a_string)+10),end=\"\\r\")\n",
    "    print(a_string,end=\"\\r\")\n",
    "\n",
    "print(\" \"*(len(a_string)+10),end=\"\\r\")\n",
    "print(\"---Raw data processing completed---\")\n",
    "print(f\"Number of country without/insufficient census data: {bc_counter[1]}\")\n",
    "print(f\"Number of country with empty raw DataFrame: {bc_counter[2]}\")\n",
    "print(f\"Number of workers with error happened: {bc_counter[3]}\")\n",
    "print(f\"Total worker processing time taken: {round(sum(bc_time_list),2)}s\")\n",
    "\n",
    "bc_processed_df = bc_shared_output.shared_df.copy()\n",
    "bc_processed_df = bc_processed_df.sort_values(['iso_code','date']).reset_index(drop=True)\n",
    "bc_raw_error_result = dict(bc_error_dict)\n",
    "bc_raw_time = list(bc_time_list)\n",
    "\n",
    "executor.close()\n",
    "executor.join()\n",
    "bc_manager.shutdown()\n",
    "\n",
    "end_cell = time.perf_counter()\n",
    "print(f\"Total elapsed time on this code block: {round(end_cell-start_cell,2)}s\")\n"
   ]
  },
  {
   "cell_type": "markdown",
   "id": "1530eead-14c6-408e-9fae-333b05012aab",
   "metadata": {},
   "source": [
    "<font size=3.5><ins>**b. Processing vaccine data**</ins></font><a name=\"2.2.2.1.b\"></a><br>\n",
    "<font size=3>**Estimate main vaccine group ratio**</font><br>\n",
    "We will use the vaccine distribution data from manufacturer to determine the mainly used vaccine and their ratio"
   ]
  },
  {
   "cell_type": "code",
   "execution_count": null,
   "id": "2edc909b-e56a-4fcf-a6f4-4f1caa8cdd48",
   "metadata": {},
   "outputs": [],
   "source": [
    "vac_vol_df = pd.read_csv(\"database/Covid-19_raw_data/OurWorldinData/vaccine_volume.csv\",encoding='utf-8')\n",
    "vac_vol_df=pd.crosstab(vac_vol_df.date,vac_vol_df.vaccine,values=vac_vol_df.total_vaccinations,aggfunc='sum')\n",
    "vac_vol_df=vac_vol_df.fillna(0)\n",
    "vac_vol_df.head(3)"
   ]
  },
  {
   "cell_type": "code",
   "execution_count": 7,
   "id": "bcb5e88d-e9f8-43be-a495-c003a7207be7",
   "metadata": {},
   "outputs": [
    {
     "data": {
      "text/plain": [
       "<AxesSubplot:title={'center':'Figure-1: Time sery of vaccine type distribtion'}, xlabel='date'>"
      ]
     },
     "execution_count": 7,
     "metadata": {},
     "output_type": "execute_result"
    },
    {
     "data": {
      "image/png": "[encoded data removed]",
      "text/plain": [
       "<Figure size 1224x1008 with 1 Axes>"
      ]
     },
     "metadata": {
      "needs_background": "light"
     },
     "output_type": "display_data"
    }
   ],
   "source": [
    "plot_df = vac_vol_df.copy()\n",
    "plot_df.iloc[:,1:]=trim_mean(plot_df.iloc[:,1:],7,25)\n",
    "plot_df.plot.area(figsize=(17,14),legend='reverse',title='Figure-1: Time sery of vaccine type distribtion')"
   ]
  },
  {
   "cell_type": "markdown",
   "id": "1f8769f1-61bf-4781-9c0c-2ef744b2bb25",
   "metadata": {},
   "source": [
    "As the Figure shows, we can estimate the popular vaccines weight as follow:\n",
    "* Group 1: Non Replicating Viral Vector\n",
    "    * Vaxzevria (AstraZeneca): 10\n",
    "    * Ad26.COV 2-S (Janssen Pharmaceuticals): 4\n",
    "    * Covishield(Serum Institute of India): 0.2 (very small)\n",
    "    * Gam-Covid-Vac (Gamaleya Research Institute): 0.2 (very small)\n",
    "* Group 2: RNA\n",
    "    * Comirnaty (Pfizer BioNTech): 100\n",
    "    * Spikevax (Moderna): 35\n",
    "* Group 3: Inactivated\n",
    "    * BBIBP-CorV (Beijing Bio-Institute Biological Products): 2\n",
    "    * Coronavac (Sinovac): 3\n",
    "\n",
    "**Reference:** https://covid19.trackvaccines.org/agency/who/"
   ]
  },
  {
   "cell_type": "code",
   "execution_count": null,
   "id": "b950c4af-296e-459b-9bf8-c1b2394825be",
   "metadata": {},
   "outputs": [],
   "source": [
    "vac_meta_df = pd.read_csv(\"database/Covid-19_raw_data/WHO/vaccine_meta.csv\",encoding='utf-8',parse_dates=['START_DATE'])\n",
    "vac_meta_df.head(3)"
   ]
  },
  {
   "cell_type": "markdown",
   "id": "6606026b-ba9c-4586-8390-3d8c857aac36",
   "metadata": {},
   "source": [
    "* <ins>Vaccine general input parameters</ins>"
   ]
  },
  {
   "cell_type": "code",
   "execution_count": null,
   "id": "d44980f6-99d9-438d-913f-2e796e9e3710",
   "metadata": {},
   "outputs": [],
   "source": [
    "bc_base_vaccine_percent = [1,1,1]\n",
    "bc_vaccine_info = ([\"Non Replicating Viral Vector\",56,14,14,150,150],\n",
    "                   [\"RNA\",28,14,14,150,150],\n",
    "                   [\"Inactivated\",28,14,14,150,150])\n",
    "bc_target_priority=None\n",
    "bc_vac_weight = {'Vaxzevria':(0,10),\n",
    "                 'Ad26.COV 2-S':(0,4),\n",
    "                 'Covishield':(0,0.2),\n",
    "                 'Gam-Covid-Vac':(0,0.2),\n",
    "                 'Comirnaty':(1,100),\n",
    "                 'Spikevax':(1,35),\n",
    "                 'BBIBP-CorV':(2,2),\n",
    "                 'Coronavac':(2,3)}\n",
    "bc_other_vaccine_weight = (0,0.5)\n",
    "\n",
    "\n",
    "# zero for fast data processing, ignore randomness\n",
    "bc_vac_method_limit = 0 \n",
    "bc_vac_seed = 1"
   ]
  },
  {
   "cell_type": "markdown",
   "id": "8033e9d2-1e64-48cc-aa3c-c89eca45dc4e",
   "metadata": {},
   "source": [
    "* <ins>Processing</ins>"
   ]
  },
  {
   "cell_type": "code",
   "execution_count": null,
   "id": "503a341f-5d34-4d49-8040-38ca0c47991e",
   "metadata": {},
   "outputs": [],
   "source": [
    "start_cell = time.perf_counter()\n",
    "\n",
    "bc_manager = Manager()\n",
    "bc_counter= bc_manager.Array('i',[0,0])\n",
    "bc_time_list = bc_manager.list([])\n",
    "bc_error_dict = bc_manager.dict()\n",
    "bc_shared_output = bc_manager.Namespace()\n",
    "bc_shared_output.shared_df = pd.DataFrame()\n",
    "bc_lock = bc_manager.Lock()\n",
    "\n",
    "#list of country iso_code\n",
    "raw_processed_code = bc_processed_df.iso_code.unique()\n",
    "\n",
    "#worker function\n",
    "worker_func = partial(vaccine_wrapper_func,\n",
    "                      shared_count=bc_counter,\n",
    "                      time_list=bc_time_list,\n",
    "                      error_dict=bc_error_dict,\n",
    "                      shared_output=bc_shared_output,\n",
    "                      lock=bc_lock,\n",
    "                      input_data = (bc_processed_df.copy(),'iso_code'),\n",
    "                      vac_meta_data=vac_meta_df,\n",
    "                      vaccine_info=bc_vaccine_info,\n",
    "                      base_vaccine_percent=bc_base_vaccine_percent,\n",
    "                      target_priority=bc_target_priority,\n",
    "                      vac_weight=bc_vac_weight,\n",
    "                      other_vaccine_weight=bc_other_vaccine_weight,\n",
    "                      vac_method_limit=bc_vac_method_limit,\n",
    "                      vac_seed=bc_vac_seed)\n",
    "\n",
    "executor= Pool(processes=bc_max_worker)\n",
    "start_worker = time.perf_counter()\n",
    "pool_result = executor.map_async(worker_func,raw_processed_code)\n",
    "\n",
    "max_country = len(raw_processed_code)\n",
    "\n",
    "while bc_counter[0]<max_country:\n",
    "    time.sleep(1)\n",
    "    n_done = bc_counter[0]\n",
    "    n_wait = max_country\n",
    "    total_time = round(sum(bc_time_list),2)\n",
    "    if n_done!=0:\n",
    "        avg_time = round(total_time/n_done,2)\n",
    "    \n",
    "    if n_done!=0:\n",
    "        remain_country = n_wait - n_done\n",
    "        remain_time = round(remain_country*avg_time,2)\n",
    "        real_remain = round(remain_time/bc_max_worker,2)\n",
    "    else:\n",
    "        remain_country = \"estimating...\"\n",
    "        remain_time = \"-- \"\n",
    "        real_remain = \"-- \"\n",
    "        \n",
    "    elapsed_time = round(time.perf_counter()-start_worker,2)\n",
    "    a_string = (f\"Elapsed time: {elapsed_time}s    \" +\n",
    "                f\"Total workers processing time: {total_time}s    \" + \n",
    "                f\" Remaining countries: {remain_country}    \" + \n",
    "                f\" Estimated remaining worker time: {remain_time}s    \" +\n",
    "                f\" Estimated remaining real time: {real_remain}s\")\n",
    "    \n",
    "    print(\" \"*(len(a_string)+10),end=\"\\r\")\n",
    "    print(a_string,end=\"\\r\")\n",
    "    \n",
    "print(\" \"*(len(a_string)+10),end=\"\\r\")\n",
    "print(\"---Vaccine data processing completed---\")\n",
    "print(f\"Number of workers with error happened: {bc_counter[1]}\")\n",
    "print(f\"Total worker processing time taken: {round(sum(bc_time_list),2)}s\")\n",
    "\n",
    "bc_processed_df = bc_shared_output.shared_df.copy()\n",
    "bc_processed_df = bc_processed_df.sort_values(['iso_code','date']).reset_index(drop=True)\n",
    "bc_vaccine_error_result = dict(bc_error_dict)\n",
    "bc_vaccine_time = list(bc_time_list)\n",
    "\n",
    "executor.close()\n",
    "executor.join()\n",
    "bc_manager.shutdown()\n",
    "\n",
    "end_cell = time.perf_counter()\n",
    "print(f\"Total elapsed time on this code block: {round(end_cell-start_cell,2)}s\")"
   ]
  },
  {
   "cell_type": "markdown",
   "id": "8d1fe621-a404-48d0-8229-16ed0bcedd25",
   "metadata": {},
   "source": [
    "* <ins>Store processed raw data</ins>"
   ]
  },
  {
   "cell_type": "code",
   "execution_count": null,
   "id": "a6674797-acfe-4539-b60b-708d52bff0f8",
   "metadata": {},
   "outputs": [],
   "source": [
    "folder_path = \"database/Covid-19_modeling_input/WorldData\"\n",
    "if os.path.exists(str(folder_path)):\n",
    "    pass\n",
    "else:\n",
    "    os.makedirs(str(folder_path))\n",
    "    print(\"New folder created.\")\n",
    "bc_processed_df.to_csv(folder_path +\"/\"+\"w_processed_data_by_country.csv\",encoding=\"utf-8\",index=False)\n",
    "bc_processed_df.head(3)"
   ]
  },
  {
   "cell_type": "markdown",
   "id": "cbd345de-84c4-410d-a5a6-ee9eec3d551c",
   "metadata": {},
   "source": [
    "<font size=3.5><ins>**c. Processing modeling data**</ins><a name=\"2.2.2.1.c\"></a></font>\n",
    "* <ins>Modeling general input parameters</ins>"
   ]
  },
  {
   "cell_type": "code",
   "execution_count": null,
   "id": "ea6a19a5-ec15-4cdb-b727-2866bb1678eb",
   "metadata": {},
   "outputs": [],
   "source": [
    "bc_r_protect_time  = 150\n",
    "bc_s_vac_ratio = 3.0\n",
    "bc_avg_infect_t= 1\n",
    "bc_avg_death_t= 1\n",
    "bc_avg_recov_t= 1\n",
    "bc_avg_rotate= 1\n",
    "\n",
    "#fill empty parameters\n",
    "bc_avg_data=14\n",
    "bc_weights=2\n",
    "bc_include_zero=False\n",
    "\n",
    "#reproduction number parameters\n",
    "bc_p = 1.0\n",
    "bc_n = 30\n",
    "bc_trim = 25"
   ]
  },
  {
   "cell_type": "markdown",
   "id": "f2f27aae-da10-4866-86c7-8cb5bce5b306",
   "metadata": {},
   "source": [
    "* <ins>Processing</ins>"
   ]
  },
  {
   "cell_type": "code",
   "execution_count": null,
   "id": "dcd92701-b8d9-4e2e-8dac-934a5f46cfb6",
   "metadata": {},
   "outputs": [],
   "source": [
    "counter=0\n",
    "total_s=0\n",
    "bc_model_input_df = bc_processed_df.copy()\n",
    "bc_model_df = pd.DataFrame()\n",
    "total_time_start=time.time()\n",
    "for code in raw_processed_code:\n",
    "    start = time.time()\n",
    "    \n",
    "    dummy_df = bc_model_input_df.loc[bc_model_input_df.iso_code==code].reset_index(drop=True)\n",
    "    dummy_df.iloc[:,[7,8]]=dummy_df.iloc[:,[7,8]].apply(np.round)\n",
    "    dummy_df[['S0','V0','I0','D0','daily_case_non_vaccinated','daily_case_vaccinated']] = model_initial(dummy_df[['case_avg','recovery_case','death_avg','curr_full_vaccinated',\n",
    "                                                                                                                  'current_pol_N']].to_numpy(),\n",
    "                                                                                                        bc_r_protect_time,\n",
    "                                                                                                        bc_s_vac_ratio)\n",
    "    dummy_df[['beta','beta_v','gamma','theta','alpha','alpha0']] = model_parameter(dummy_df[['S0','V0','I0','death_avg','recovery_case','new_full_vaccinated','new_boost_req',\n",
    "                                                                                             'daily_case_non_vaccinated','daily_case_vaccinated','current_pol_N']].to_numpy(),\n",
    "                                                                                    bc_r_protect_time,\n",
    "                                                                                    bc_avg_infect_t,\n",
    "                                                                                    bc_avg_death_t,\n",
    "                                                                                    bc_avg_recov_t,\n",
    "                                                                                    bc_avg_rotate)\n",
    "    \n",
    "    concat_df = dummy_df[['date','iso_code','continent','location','S0','V0','I0','D0','beta','beta_v','gamma','theta','alpha','alpha0',\n",
    "                          'death_avg','recovery_case','new_full_vaccinated','new_boost_req','daily_case_non_vaccinated',\n",
    "                          'daily_case_vaccinated','current_pol_N']].copy()\n",
    "    concat_df[['S0','V0','I0','D0']]=concat_df[['S0','V0','I0','D0']].astype(np.int64)\n",
    "    \n",
    "    #get birth rate & death rate\n",
    "    birth_rate = birth_df.loc[birth_df['ISO3 Alpha-code']==code,'Crude Birth Rate (births per 1,000 population)']\n",
    "    birth_rate = (1+(float(birth_rate)/1000))**(1/365)-1\n",
    "    death_rate = death_df.loc[death_df['ISO3 Alpha-code']==code,'Crude Death Rate (deaths per 1,000 population)']\n",
    "    death_rate = (1+(float(death_rate)/1000))**(1/365)-1\n",
    "    \n",
    "    #add daily recruitment rate\n",
    "    concat_df.insert(concat_df.columns.get_loc(\"alpha0\")+1,\n",
    "                            'pi',\n",
    "                            ((concat_df[['S0','V0',\n",
    "                                          'I0','D0']].sum(axis=1))*birth_rate\n",
    "                            ).astype(np.int64))\n",
    "    \n",
    "    #fill empty values of each columns\n",
    "    concat_df = fill_empty_param(input_df=concat_df,\n",
    "                                input_col=['beta','beta_v','gamma',\n",
    "                                          'theta','alpha','alpha0'],\n",
    "                                avg_data=bc_avg_data,\n",
    "                                weights=bc_weights,\n",
    "                                include_zero=bc_include_zero)\n",
    "    \n",
    "    #fill remaining SVID model parameter with 0\n",
    "    concat_df.iloc[:,concat_df.columns.get_loc('beta'):(concat_df.columns.get_loc('pi')+1)]=\\\n",
    "        concat_df.iloc[:,concat_df.columns.get_loc('beta'):(concat_df.columns.get_loc('pi')+1)].fillna(0)\n",
    "    \n",
    "    #calculate reproduction number\n",
    "    concat_df[['daily_R0','avg_R0']]=reproduction_number(\n",
    "        input_df=concat_df,\n",
    "        input_col=['beta','beta_v','gamma',\n",
    "                  'theta','alpha','alpha0','pi'],\n",
    "        p=bc_p,\n",
    "        mu=death_rate,\n",
    "        n=bc_n,\n",
    "        outlier_trim=bc_trim)\n",
    "    \n",
    "    bc_model_df = pd.concat([bc_model_df,concat_df],ignore_index=True)\n",
    "    \n",
    "    end=time.time()\n",
    "    counter += 1\n",
    "    total_s = total_s + end - start\n",
    "    avg = total_s/counter\n",
    "    print(f\"Estimated remaining processing time: {round(avg*(raw_processed_code.shape[0]-counter),2)}s   \",end='\\r')\n",
    "total_time_end=time.time()\n",
    "print(\"\")\n",
    "print(\"Total process time taken:\",round(total_time_end-total_time_start,2),\"s\")"
   ]
  },
  {
   "cell_type": "markdown",
   "id": "bd791282-3abe-41f0-aa2b-994c718e05c0",
   "metadata": {},
   "source": [
    "* <ins>Store modeling raw data</ins>"
   ]
  },
  {
   "cell_type": "code",
   "execution_count": null,
   "id": "6f83997f-3b66-4f77-bcee-03abe874e604",
   "metadata": {
    "tags": []
   },
   "outputs": [],
   "source": [
    "folder_path = \"database/Covid-19_modeling_input/WorldData\"\n",
    "if os.path.exists(str(folder_path)):\n",
    "    pass\n",
    "else:\n",
    "    os.makedirs(str(folder_path))\n",
    "    print(\"New folder created.\")\n",
    "bc_model_df.to_csv(folder_path +\"/\"+\"w_modeling_data_by_country.csv\",encoding=\"utf-8\",index=False)\n",
    "bc_model_df.head(3)"
   ]
  },
  {
   "cell_type": "markdown",
   "id": "43bb02c3-cd80-4371-acde-5d7d7aedcccc",
   "metadata": {},
   "source": [
    "<ins><font size=4>**2.2.2.2. By world grand total**</font></ins><a name=\"2.2.2.2\"></a><br>\n",
    "<font size=3.5><ins>**a. Processing raw data**</ins></font><a name=\"2.2.2.2.a\"></a><br>\n",
    "* <ins>Raw general input parameters</ins>"
   ]
  },
  {
   "cell_type": "code",
   "execution_count": null,
   "id": "8170613d-3b35-4ed3-b9dc-e9156279bd80",
   "metadata": {},
   "outputs": [],
   "source": [
    "w_code = 900\n",
    "w_iso_code = 'OWID_WRL'\n",
    "\n",
    "w_raw_rolling = 10\n",
    "w_trim_percent = 25\n",
    "w_death_distribution = [0.4,0.3,0.2,0.025,0.025,0.025,0.025]\n",
    "w_death_after = 4\n",
    "w_death_rolling = 14\n",
    "w_use_origin = True\n",
    "w_recovery_distribution = [0.3,0.5,0.1,0.05,0.05]\n",
    "w_recovery_after = 7\n",
    "\n",
    "# zero for fast data processing, ignore randomness\n",
    "w_raw_method_limit=0 \n",
    "w_raw_seed = 1"
   ]
  },
  {
   "cell_type": "markdown",
   "id": "556374c8-1e55-40bf-b15e-1a01bee645bc",
   "metadata": {},
   "source": [
    "* <ins>Groups of function input parameters</ins>"
   ]
  },
  {
   "cell_type": "code",
   "execution_count": null,
   "id": "4cf68c03-e6db-44b4-b85b-a23f6ae5be33",
   "metadata": {},
   "outputs": [],
   "source": [
    "#All shouldn't be modified\n",
    "\n",
    "w_col = ['new_cases','new_deaths']\n",
    "w_window_trim = [('case_avg',w_raw_rolling,w_trim_percent),('death_avg',w_raw_rolling,w_trim_percent)]\n",
    "w_date = ['date',None]\n",
    "w_death_input = ('death_avg','case_avg','origin_case',w_death_distribution,{'death_after':w_death_after})\n",
    "w_death_per = ('origin_case','case_avg','death_percent',w_death_rolling,w_trim_percent)\n",
    "w_recov_input = ('case_avg','recovery_case',w_use_origin,w_recovery_distribution,{'recovery_after':w_recovery_after})"
   ]
  },
  {
   "cell_type": "markdown",
   "id": "20c0ee3a-b4dc-48b6-a62b-fe5f882ee9ce",
   "metadata": {},
   "source": [
    "* <ins>Processing</ins>"
   ]
  },
  {
   "cell_type": "code",
   "execution_count": null,
   "id": "401adcbd-d883-424e-8c82-15e4f44cf724",
   "metadata": {},
   "outputs": [],
   "source": [
    "total_time_start = time.time()\n",
    "\n",
    "#world average birth_rate\n",
    "b_rate = birth_df.loc[birth_df['Location code']==w_code,'Crude Birth Rate (births per 1,000 population)'].values[0] \n",
    "#world average death_rate\n",
    "d_rate = death_df.loc[death_df['Location code']==w_code,'Crude Death Rate (deaths per 1,000 population)'].values[0] \n",
    "population  = population_df.loc[population_df['Location code']==w_code,'Total Population, as of 1 January'].values[0]\n",
    "\n",
    "raw_df = bc_input_df.loc[bc_input_df.iso_code==w_iso_code].copy().reset_index(drop=True)\n",
    "\n",
    "#convert to %/day\n",
    "birth_rate = (1+(b_rate/1000))**(1/365)-1 \n",
    "#convert to %/day\n",
    "death_rate = (1+(d_rate/1000))**(1/365)-1 \n",
    "#living population which affected by the disease\n",
    "total_N = (int(population),birth_rate,death_rate,'current_pol_N') \n",
    "\n",
    "w_processed_df = process_raw_infect_data(raw_df,\n",
    "                                      w_col,\n",
    "                                      w_window_trim,\n",
    "                                      w_date,\n",
    "                                      w_death_input,\n",
    "                                      w_death_per,\n",
    "                                      w_recov_input,\n",
    "                                      total_N,\n",
    "                                      method_limit=w_raw_method_limit,\n",
    "                                      seed=w_raw_seed)\n",
    "\n",
    "w_processed_df['new_vaccinations_smoothed'] = w_processed_df['new_vaccinations_smoothed'].interpolate(method='linear',limit_direction='forward').fillna(0).astype(np.int64)\n",
    "w_processed_df[['iso_code','continent','location']] = w_processed_df[['iso_code','continent','location']].ffill().bfill()\n",
    "\n",
    "w_processed_df = w_processed_df.iloc[w_raw_rolling-1:].reset_index(drop=True).copy() #drop ['case_avg','death_avg'] NaN rows\n",
    "total_time_end = time.time()\n",
    "print(\"Total process time taken:\",round(total_time_end-total_time_start,2),\"s\")\n",
    "w_processed_df.head(3)"
   ]
  },
  {
   "cell_type": "markdown",
   "id": "f7ff9549-38aa-48c9-ba6f-624c29f9c10f",
   "metadata": {},
   "source": [
    "<font size=3.5><ins>**b. Processing vaccine data**</ins></font><a name=\"2.2.2.2.b\"></a><br>\n",
    "* <ins>Vaccine general input parameters</ins>"
   ]
  },
  {
   "cell_type": "code",
   "execution_count": null,
   "id": "ed7d3cd7-4415-4c9d-aa80-89ccc799c92f",
   "metadata": {},
   "outputs": [],
   "source": [
    "w_base_vaccine_percent = [14.4,135,5]\n",
    "w_vaccine_info = ([\"Non Replicating Viral Vector\",56,14,14,150,150],\n",
    "                  [\"RNA\",28,14,14,150,150],\n",
    "                  [\"Inactivated\",28,14,14,150,150])\n",
    "w_target_priority=None\n",
    "\n",
    "# zero for fast data processing, ignore randomness\n",
    "w_vac_method_limit = 0 \n",
    "w_vac_seed = 1"
   ]
  },
  {
   "cell_type": "markdown",
   "id": "86028592-a3c8-4f70-9d6d-a5ad10507f7c",
   "metadata": {},
   "source": [
    "* <ins>Processing</ins>"
   ]
  },
  {
   "cell_type": "code",
   "execution_count": null,
   "id": "5ceaf099-766e-4292-9940-540771328c07",
   "metadata": {},
   "outputs": [],
   "source": [
    "total_time_start=time.time()\n",
    "\n",
    "#vaccine type ratio will be based on current total vaccine distribution amount from Figure-1.\n",
    "vac_distribute = vaccinated_case(w_base_vaccine_percent,\n",
    "                                 w_vaccine_info,\n",
    "                                 w_processed_df.shape[0],\n",
    "                                 w_target_priority)\n",
    "\n",
    "\n",
    "vac_distribute.calculate_vaccine_distribution(w_processed_df,\n",
    "                                              'new_vaccinations_smoothed',\n",
    "                                              method_limit=w_vac_method_limit,\n",
    "                                              seed=w_vac_seed)\n",
    "w_processed_df.loc[:,'curr_full_vaccinated']=vac_distribute.full_immu_matrix.sum(axis=1)\n",
    "w_processed_df.loc[:,'new_full_vaccinated']=vac_distribute.new_full_matrix.sum(axis=1)\n",
    "w_processed_df.loc[:,'new_boost_req']=vac_distribute.new_req_boost_matrix.sum(axis=1)\n",
    "    \n",
    "total_time_end=time.time()\n",
    "print(\"Total process time taken:\",round(total_time_end-total_time_start,2),\"s\")"
   ]
  },
  {
   "cell_type": "markdown",
   "id": "79e5c46f-48b6-4b0a-aa29-f094a5f73fbb",
   "metadata": {},
   "source": [
    "* <ins>Store processed raw data</ins>"
   ]
  },
  {
   "cell_type": "code",
   "execution_count": null,
   "id": "069e3dff-0153-4c2a-ae7e-15c1fa1652a2",
   "metadata": {},
   "outputs": [],
   "source": [
    "folder_path = \"database/Covid-19_modeling_input/WorldData\"\n",
    "if os.path.exists(str(folder_path)):\n",
    "    pass\n",
    "else:\n",
    "    os.makedirs(str(folder_path))\n",
    "    print(\"New folder created.\")\n",
    "w_processed_df.to_csv(folder_path +\"/\"+\"w_processed_data.csv\",encoding=\"utf-8\",index=False)\n",
    "w_processed_df.head(3)"
   ]
  },
  {
   "cell_type": "markdown",
   "id": "ae64f56c-b15e-4aee-b92e-26a7537fd431",
   "metadata": {},
   "source": [
    "<font size=3.5><ins>**c. Processing modeling data**</ins><a name=\"2.2.2.2.c\"></a></font>\n",
    "* <ins>Modeling general input parameters</ins>"
   ]
  },
  {
   "cell_type": "code",
   "execution_count": null,
   "id": "cf5b88a0-48e5-48ed-9419-61a8acd65938",
   "metadata": {},
   "outputs": [],
   "source": [
    "w_r_protect_time  = 150\n",
    "w_s_vac_ratio = 3.0\n",
    "w_avg_infect_t= 1\n",
    "w_avg_death_t= 1\n",
    "w_avg_recov_t= 1\n",
    "w_avg_rotate= 1\n",
    "\n",
    "#fill empty parameters\n",
    "w_avg_data=14\n",
    "w_weights=2\n",
    "w_include_zero=False\n",
    "\n",
    "#reproduction number parameters\n",
    "w_p = 1.0\n",
    "w_n = 30\n",
    "w_trim = 25"
   ]
  },
  {
   "cell_type": "markdown",
   "id": "e529a5c9-8bc8-41c2-a798-a3c6e32d7813",
   "metadata": {},
   "source": [
    "* <ins>Processing</ins>"
   ]
  },
  {
   "cell_type": "code",
   "execution_count": null,
   "id": "99859499-f43f-492b-9d03-cb86eec82ac6",
   "metadata": {},
   "outputs": [],
   "source": [
    "w_model_input_df = w_processed_df.copy()\n",
    "total_time_start=time.time()\n",
    "\n",
    "# w_model_input_df.iloc[:,[7,8]]=w_model_input_df.iloc[:,[7,8]].apply(np.ceil)\n",
    "w_model_input_df.iloc[:,[7,8]]=w_model_input_df.iloc[:,[7,8]].apply(np.round)\n",
    "w_model_input_df[['S0','V0','I0','D0','daily_case_non_vaccinated','daily_case_vaccinated']] = model_initial(w_model_input_df[['case_avg','recovery_case','death_avg',\n",
    "                                                                                                                              'curr_full_vaccinated','current_pol_N']].to_numpy(),\n",
    "                                                                                                            w_r_protect_time,\n",
    "                                                                                                            w_s_vac_ratio)\n",
    "w_model_input_df[['beta','beta_v','gamma','theta','alpha','alpha0']] = model_parameter(w_model_input_df[['S0','V0','I0','death_avg','recovery_case','new_full_vaccinated',\n",
    "                                                                                                         'new_boost_req','daily_case_non_vaccinated','daily_case_vaccinated',\n",
    "                                                                                                         'current_pol_N']].to_numpy(),\n",
    "                                                                                       w_r_protect_time,\n",
    "                                                                                       w_avg_infect_t,\n",
    "                                                                                       w_avg_death_t,\n",
    "                                                                                       w_avg_recov_t,\n",
    "                                                                                       w_avg_rotate)\n",
    "\n",
    "w_model_df = w_model_input_df[['date','iso_code','continent','location','S0','V0','I0','D0','beta','beta_v','gamma','theta','alpha','alpha0',\n",
    "                               'death_avg','recovery_case','new_full_vaccinated','new_boost_req','daily_case_non_vaccinated',\n",
    "                               'daily_case_vaccinated','current_pol_N']].copy()\n",
    "w_model_df[['S0','V0','I0','D0']]=w_model_df[['S0','V0','I0','D0']].astype(np.int64)\n",
    "\n",
    "#add daily recruitment rate\n",
    "w_model_df.insert(w_model_df.columns.get_loc(\"alpha0\")+1,\n",
    "                        'pi',\n",
    "                        ((w_model_df[['S0','V0',\n",
    "                                      'I0','D0']].sum(axis=1))*birth_rate\n",
    "                        ).astype(np.int64))\n",
    "\n",
    "#fill empty values of each columns\n",
    "w_model_df = fill_empty_param(input_df=w_model_df,\n",
    "                            input_col=['beta','beta_v','gamma',\n",
    "                                      'theta','alpha','alpha0'],\n",
    "                            avg_data=w_avg_data,\n",
    "                            weights=w_weights,\n",
    "                            include_zero=w_include_zero)\n",
    "\n",
    "#fill remaining SVID model parameter with 0\n",
    "w_model_df.iloc[:,w_model_df.columns.get_loc('beta'):(w_model_df.columns.get_loc('pi')+1)]=\\\n",
    "    w_model_df.iloc[:,w_model_df.columns.get_loc('beta'):(w_model_df.columns.get_loc('pi')+1)].fillna(0)\n",
    "\n",
    "#calculate reproduction number\n",
    "w_model_df[['daily_R0','avg_R0']]=reproduction_number(\n",
    "    input_df=w_model_df,\n",
    "    input_col=['beta','beta_v','gamma',\n",
    "              'theta','alpha','alpha0','pi'],\n",
    "    p=w_p,\n",
    "    mu=death_rate,\n",
    "    n=w_n,\n",
    "    outlier_trim=w_trim)\n",
    "\n",
    "total_time_end=time.time()\n",
    "print(\"Total process time taken:\",round(total_time_end-total_time_start,2),\"s\")"
   ]
  },
  {
   "cell_type": "markdown",
   "id": "38d8ab92-28fa-4d94-a446-33723c8fd58f",
   "metadata": {},
   "source": [
    "* <ins>Store modeling raw data</ins>"
   ]
  },
  {
   "cell_type": "code",
   "execution_count": null,
   "id": "e57555f0-265a-46c6-a70d-9f442dc6a00e",
   "metadata": {},
   "outputs": [],
   "source": [
    "folder_path = \"database/Covid-19_modeling_input/WorldData\"\n",
    "if os.path.exists(str(folder_path)):\n",
    "    pass\n",
    "else:\n",
    "    os.makedirs(str(folder_path))\n",
    "    print(\"New folder created.\")\n",
    "w_model_df.to_csv(folder_path +\"/\"+\"w_modeling_data.csv\",encoding=\"utf-8\",index=False)\n",
    "w_model_df.head(3)"
   ]
  }
 ],
 "metadata": {
  "kernelspec": {
   "display_name": "Python 3 (ipykernel)",
   "language": "python",
   "name": "python3"
  },
  "language_info": {
   "codemirror_mode": {
    "name": "ipython",
    "version": 3
   },
   "file_extension": ".py",
   "mimetype": "text/x-python",
   "name": "python",
   "nbconvert_exporter": "python",
   "pygments_lexer": "ipython3",
   "version": "3.9.12"
  }
 },
 "nbformat": 4,
 "nbformat_minor": 5
}
