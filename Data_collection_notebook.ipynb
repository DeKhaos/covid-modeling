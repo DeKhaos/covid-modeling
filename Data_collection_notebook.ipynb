{
 "cells": [
  {
   "cell_type": "markdown",
   "id": "8d110ace-a9aa-4af3-9c70-a071ea72c2ec",
   "metadata": {},
   "source": [
    "This section is used to collect data for other sections <br>\n",
    "<b><font size=7>Table of content</font></b><br>\n",
    "\n",
    "<font size=3.5>1. [Data collection](#1)<br>\n",
    "&emsp;1.1. [Covid-19 World data](#1.1)<br>\n",
    "&emsp;&emsp;1.1.1. [Data from WHO website](#1.1.1)<br>\n",
    "&emsp;&emsp;1.1.2. [Data from Johns Hopkins University](#1.1.2)<br>\n",
    "&emsp;&emsp;1.1.3. [Data from Ourworldindata](#1.1.3)<br>\n",
    "&emsp;&emsp;1.1.4. [World census data](#1.1.4)<br>\n",
    "&emsp;1.2. [Covid-19 VietNam data](#1.2)<br>\n",
    "&emsp;&emsp;1.2.1. [Population data](#1.2.1)<br>\n",
    "&emsp;&emsp;1.2.2. [Vaccine import and distribution](#1.2.2)<br>\n",
    "&emsp;&emsp;&ensp;a. [Distribution data](#1.2.2.a)<br>\n",
    "&emsp;&emsp;&ensp;b. [Import data](#1.2.2.b)<br>\n",
    "&emsp;&emsp;1.2.3. [Covid-19 data from Ministry of Health](#1.2.3)<br>\n",
    "&emsp;&emsp;&ensp;a. [Total case in VietNam](#1.2.3.a)<br>\n",
    "&emsp;&emsp;&ensp;b. [Case by province](#1.2.3.b)<br>\n",
    "&emsp;&emsp;&ensp;c. [Case by age/gender](#1.2.3.c)<br>\n",
    "&emsp;&emsp;&ensp;d. [Death case by province](#1.2.3.d)<br>\n",
    "&emsp;1.3. [Robust weather condition](#1.3)<br>\n",
    "&emsp;&emsp;1.3.1. [Average annual wind speed](#1.3.1)<br>\n",
    "&emsp;&emsp;1.3.2. [Average annual temperature](#1.3.2)<br>\n",
    "&emsp;1.4. [Updated time](#1.4)<br>\n",
    "</font>"
   ]
  },
  {
   "cell_type": "code",
   "execution_count": null,
   "id": "3bb0b958-f962-4778-b8e9-476a9e64c664",
   "metadata": {},
   "outputs": [],
   "source": [
    "import numpy as np\n",
    "import pandas as pd\n",
    "import datetime\n",
    "import requests\n",
    "import json\n",
    "import re\n",
    "import time\n",
    "from IPython.display import display\n",
    "import os\n",
    "import traceback\n",
    "from covid_science.collection import store_dataframe,message_box,browser_request\n",
    "from covid_science.preparation import read_stored_data\n",
    "from covid_science.workers import vn_casualty_wrapper_func,temperature_data_wrapper_func\n",
    "from functools import partial\n",
    "from multiprocessing import Manager,Pool"
   ]
  },
  {
   "cell_type": "code",
   "execution_count": null,
   "id": "cdc795a5-7f93-4ae6-a3bd-0b0820275324",
   "metadata": {},
   "outputs": [],
   "source": [
    "#default automated data collection settings\n",
    "\n",
    "continue_collect = True\n",
    "init_settings = [6,6,6,6,6,6,6,6]\n",
    "basic_settings =[7,6,7,7,6,7,7,7]\n",
    "auto_process = False\n",
    "if os.path.exists(\"database/Covid-19_raw_data\"): #if collecting data is not the first time for the directory\n",
    "    answer = message_box(\"Data collection settings\",\"Do you want to gather data based on default setting?\",3+32+4096)\n",
    "    if answer == 2: #cancel\n",
    "        continue_collect = False\n",
    "    elif answer ==6: #yes\n",
    "        pass\n",
    "    else: #no\n",
    "        basic_settings[0]= message_box(\"Data collection settings\",\n",
    "                                       \"Vaccine metadata for each country might not be updated rapidly. \"\\\n",
    "                                       \"Do you want to collect vaccine metadata?\",\n",
    "                                       4+32+4096)\n",
    "        basic_settings[1]= message_box(\"Data collection settings\",\n",
    "                                       \"Source file from Ourworldindata is large. Do you want to process?\",\n",
    "                                       4+32+4096)\n",
    "        basic_settings[2]= message_box(\"Data collection settings\",\n",
    "                                       \"Do you want to collect each country census data again?\",\n",
    "                                       4+32+4096)\n",
    "        basic_settings[3]= message_box(\"Data collection settings\",\n",
    "                                       \"Do you want to save VietNam population data?\",\n",
    "                                       4+32+4096)\n",
    "        basic_settings[4]= message_box(\"Data collection settings\",\n",
    "                                       \"Do you want to collect VietNam vaccine import data for today?\",\n",
    "                                       4+32+4096)\n",
    "        basic_settings[5]= message_box(\"Data collection settings\",\n",
    "                                       \"Do you want to collect VietNam province code again \"\\\n",
    "                                       \"before processing covid-19 death data for today?\",\n",
    "                                       4+32+4096)\n",
    "        basic_settings[6] = message_box(\"Data collection settings\",\n",
    "                                        \"Do you want to collect each country average wind speed again? Please note that data won't have much changes.\",\n",
    "                                        4+32+4096)\n",
    "        basic_settings[7] = message_box(\"Data collection settings\",\n",
    "                                        \"Do you want to collect each country average annual temperature again? Please note that data won't have much changes.\",\n",
    "                                        4+32+4096)\n",
    "        auto_setting = message_box(\"Data collection settings\",\n",
    "                                   \"Do you want to auto process all data (new file will override old file when conflicts, \"\\\n",
    "                                   \"file with no new information can still be created when called to process)?\",\n",
    "                                   4+32+4096)\n",
    "        if auto_setting == 6:\n",
    "            auto_process = True\n",
    "else:\n",
    "    answer = message_box(\"Data collection settings\",\"This directory is new. Default data collection settings will be applied.\"\\\n",
    "            \" Do you want to continue?\",4+48+4096)\n",
    "    if answer==7: #no\n",
    "        continue_collect = False\n",
    "    else:\n",
    "        basic_settings = init_settings     "
   ]
  },
  {
   "cell_type": "markdown",
   "id": "8c0ce957-c61d-4c2e-8e49-5033254c8f21",
   "metadata": {},
   "source": [
    "<font size=10>**1.Data collection**</font><a name=\"1\"></a><br>\n",
    "<font size=6>**1.1.Covid-19 World data**</font><a name=\"1.1\"></a><br>\n",
    "<ins><font size=5>**1.1.1.Data from WHO website**</font></ins><a name=\"1.1.1\"></a><br>\n",
    "Reference link: [https://covid19.who.int/info/](https://covid19.who.int/info/)<br>\n",
    "* <ins>Get request & store infect/death case data</ins>"
   ]
  },
  {
   "cell_type": "code",
   "execution_count": null,
   "id": "4abe772d-621b-41b5-a116-cbef54018c8a",
   "metadata": {},
   "outputs": [],
   "source": [
    "if continue_collect:\n",
    "    try:    \n",
    "        folder_path = \"database/Covid-19_raw_data/WHO\"\n",
    "        if os.path.exists(str(folder_path)):\n",
    "            pass\n",
    "        else:\n",
    "            os.makedirs(str(folder_path))\n",
    "            print(\"New folder created.\")\n",
    "            \n",
    "        df_WHO_statistic = pd.read_csv('https://covid19.who.int/WHO-COVID-19-global-data.csv',encoding='utf-8-sig')\n",
    "        display(df_WHO_statistic.head(3))\n",
    "        df_WHO_statistic.to_csv(folder_path +\"/statistic.csv\",index=False)\n",
    "    except Exception:\n",
    "        traceback.print_exc()"
   ]
  },
  {
   "cell_type": "markdown",
   "id": "d5efcc94-301e-4ad5-b9e0-67d04da2844c",
   "metadata": {},
   "source": [
    "* <ins>Get request & store vaccine type data</ins>"
   ]
  },
  {
   "cell_type": "code",
   "execution_count": null,
   "id": "a6e0bafa-beb8-45c0-b9e9-2612856904cc",
   "metadata": {},
   "outputs": [],
   "source": [
    "if basic_settings[0]==6 and continue_collect:\n",
    "    try:    \n",
    "        df_WHO_vaccine_meta = pd.read_csv('https://covid19.who.int/who-data/vaccination-metadata.csv',encoding='utf-8')\n",
    "        display(df_WHO_vaccine_meta.head(3))\n",
    "        \n",
    "        folder_path = \"database/Covid-19_raw_data/WHO\"\n",
    "        df_WHO_vaccine_meta.to_csv(folder_path +\"/vaccine_meta.csv\",encoding='utf-8',index=False)\n",
    "    except Exception:\n",
    "        traceback.print_exc()"
   ]
  },
  {
   "cell_type": "markdown",
   "id": "43daef11-9a10-4a62-88f3-e32d973c6124",
   "metadata": {},
   "source": [
    "* <ins>Get request & store vaccination data</ins>"
   ]
  },
  {
   "cell_type": "code",
   "execution_count": null,
   "id": "cbe80c6b-e2b5-4cd2-a067-48b27eda4d0e",
   "metadata": {},
   "outputs": [],
   "source": [
    "if continue_collect:\n",
    "    try:    \n",
    "        df_WHO_vaccination = pd.read_csv('https://covid19.who.int/who-data/vaccination-data.csv',encoding='utf-8')\n",
    "        display(df_WHO_vaccination.head(3))\n",
    "        store_dataframe(df_WHO_vaccination,\"database/Covid-19_raw_data/WHO/vaccination\",auto_process=auto_process,encoding='utf-8')\n",
    "    except Exception as error:\n",
    "        if 'Input dataframe has some errors/format problems. File will not be saved.' in error.args[0]: ## this mean a new column might has been added to the main data\n",
    "            df_WHO_vaccination.to_csv(\"database/Covid-19_raw_data/WHO/vaccination\" +\"/\"+ datetime.date.today().strftime(\"%Y-%m-%d\") +\".csv\",encoding=\"utf-8\",index=False)\n",
    "        else:\n",
    "            traceback.print_exc()"
   ]
  },
  {
   "cell_type": "markdown",
   "id": "f75d6f3d-8725-42c8-a1c6-3e7715b3625e",
   "metadata": {},
   "source": [
    "* <ins>Get request & store protection measure data</ins>"
   ]
  },
  {
   "cell_type": "code",
   "execution_count": null,
   "id": "e6b895c3-ee42-43e1-bd92-43102773ab02",
   "metadata": {},
   "outputs": [],
   "source": [
    "if continue_collect:\n",
    "    try:    \n",
    "        df_WHO_measure = pd.read_csv('https://covid19.who.int/who-data/phsm-severity-data.csv',encoding='utf-8')\n",
    "        display(df_WHO_measure.head(3))\n",
    "        \n",
    "        folder_path = \"database/Covid-19_raw_data/WHO\"\n",
    "        df_WHO_measure.to_csv(folder_path +\"/measure.csv\",encoding='utf-8',index=False)\n",
    "    except Exception:\n",
    "        traceback.print_exc()"
   ]
  },
  {
   "cell_type": "markdown",
   "id": "e1f21537-9c49-4b82-9b78-77e5176ee63d",
   "metadata": {},
   "source": [
    "<ins><font size=\"5\">**1.1.2.Data from Johns Hopkins University**</font></ins><a name=\"1.1.2\"></a><br>\n",
    "Reference link: [https://github.com/CSSEGISandData/COVID-19](https://github.com/CSSEGISandData/COVID-19)<br>\n",
    "* <ins>Processing & store daily case data</ins>"
   ]
  },
  {
   "cell_type": "code",
   "execution_count": null,
   "id": "41510515-635e-4ca1-8132-b72e4f1ae9e7",
   "metadata": {},
   "outputs": [],
   "source": [
    "if continue_collect:\n",
    "    try:\n",
    "        not_latest_data = True\n",
    "        day_count = 0\n",
    "        while not_latest_data:\n",
    "            today = datetime.datetime.now()-datetime.timedelta(day_count)\n",
    "            today = today.strftime('%m-%d-%Y')\n",
    "            search_string = 'https://raw.githubusercontent.com/CSSEGISandData/COVID-19/master/csse_covid_19_data/csse_covid_19_daily_reports/'+ today +'.csv'\n",
    "            try:\n",
    "                df_JH_daily = pd.read_csv(search_string)\n",
    "                print('Lastest data is on ' + today + '.')\n",
    "                not_latest_data = False\n",
    "            except:\n",
    "                day_count += 1\n",
    "                print('Data for ' + today + ' isn\\'t updated yet!')\n",
    "\n",
    "        folder_path = \"database/Covid-19_raw_data/JHU/daily\"\n",
    "\n",
    "        if os.path.exists(str(folder_path)):\n",
    "            pass\n",
    "        else:\n",
    "            os.makedirs(str(folder_path))\n",
    "            print(\"New folder created.\")\n",
    "\n",
    "        csv_name = datetime.datetime.strptime(today,'%m-%d-%Y').strftime(\"%Y-%m-%d\") +\".csv\"\n",
    "        display(df_JH_daily.head(3))\n",
    "        df_JH_daily.to_csv(folder_path + \"/\" + csv_name,encoding='utf-8',index=False)\n",
    "        print(\"Data collected.\")\n",
    "    except:\n",
    "        traceback.print_exc()"
   ]
  },
  {
   "cell_type": "markdown",
   "id": "7e4896ea-0b49-44b8-ab9d-e611759a9e5e",
   "metadata": {},
   "source": [
    "* <ins>Get request & store infect case time sery </ins>"
   ]
  },
  {
   "cell_type": "code",
   "execution_count": null,
   "id": "1c746aa8-5ed2-4425-9558-f12d388d1869",
   "metadata": {},
   "outputs": [],
   "source": [
    "if continue_collect:\n",
    "    try:    \n",
    "        df_JH_confirm_time_sery = pd.read_csv('https://raw.githubusercontent.com/CSSEGISandData/COVID-19/master/csse_covid_19_data/csse_covid_19_time_series/time_series_covid19_confirmed_global.csv')\n",
    "        display(df_JH_confirm_time_sery.head(3))\n",
    "        \n",
    "        folder_path = \"database/Covid-19_raw_data/JHU\"\n",
    "        df_JH_confirm_time_sery.to_csv(folder_path +\"/time_sery.csv\",encoding='utf-8',index=False)\n",
    "    except Exception as error:\n",
    "        traceback.print_exc()"
   ]
  },
  {
   "cell_type": "markdown",
   "id": "ee15d4a4-8eda-42a5-bb6e-25ca4770b6d9",
   "metadata": {},
   "source": [
    "* <ins>Processing & store daily death case data</ins>"
   ]
  },
  {
   "cell_type": "code",
   "execution_count": null,
   "id": "d88f6632-58ad-4849-baa7-ec39fd832654",
   "metadata": {},
   "outputs": [],
   "source": [
    "if continue_collect:\n",
    "    try:    \n",
    "        df_JH_death_time_sery = pd.read_csv('https://raw.githubusercontent.com/CSSEGISandData/COVID-19/master/csse_covid_19_data/csse_covid_19_time_series/time_series_covid19_deaths_global.csv')\n",
    "        display(df_JH_death_time_sery.head(3))\n",
    "        \n",
    "        folder_path = \"database/Covid-19_raw_data/JHU\"\n",
    "        df_JH_death_time_sery.to_csv(folder_path +\"/death_time_sery.csv\",encoding='utf-8',index=False)\n",
    "    except Exception:\n",
    "        traceback.print_exc()"
   ]
  },
  {
   "cell_type": "markdown",
   "id": "b4f1f470-4b3a-43f3-92f0-a862b6852433",
   "metadata": {},
   "source": [
    "* <ins>Processing & store vaccinated population data</ins>"
   ]
  },
  {
   "cell_type": "code",
   "execution_count": null,
   "id": "9492aa43-0fe2-491c-a4f5-c8ff924268f7",
   "metadata": {},
   "outputs": [],
   "source": [
    "if continue_collect:\n",
    "    try:    \n",
    "        df_JH_vaccinate= pd.read_csv('https://raw.githubusercontent.com/govex/COVID-19/master/data_tables/vaccine_data/global_data/time_series_covid19_vaccine_global.csv')\n",
    "        display(df_JH_vaccinate.head(3))\n",
    "        \n",
    "        folder_path = \"database/Covid-19_raw_data/JHU\"\n",
    "        df_JH_vaccinate.to_csv(folder_path +\"/vaccinate.csv\",encoding='utf-8',index=False)\n",
    "    except Exception:\n",
    "        traceback.print_exc()"
   ]
  },
  {
   "cell_type": "markdown",
   "id": "a943d575-3ba0-426d-85dc-66e5b04bb8cd",
   "metadata": {},
   "source": [
    "<ins><font size=\"5\">**1.1.3.Data from Ourworldindata**</font></ins><a name=\"1.1.3\"></a><br>\n",
    "Reference link:<br>\n",
    "[https://ourworldindata.org/coronavirus#coronavirus-country-profiles](https://ourworldindata.org/coronavirus#coronavirus-country-profiles)</br>\n",
    "[https://github.com/owid/covid-19-data/tree/master/public/data/vaccinations](https://github.com/owid/covid-19-data/tree/master/public/data/vaccinations)"
   ]
  },
  {
   "cell_type": "code",
   "execution_count": null,
   "id": "8a6edf83-35e2-4d4b-b2ee-27adee629810",
   "metadata": {},
   "outputs": [],
   "source": [
    "if basic_settings[1]==6 and continue_collect:\n",
    "    try:\n",
    "        folder_path = \"database/Covid-19_raw_data/OurWorldinData\"\n",
    "        if os.path.exists(str(folder_path)):\n",
    "            pass\n",
    "        else:\n",
    "            os.makedirs(str(folder_path))\n",
    "            print(\"New folder created.\")\n",
    "            \n",
    "        df_oxford = pd.read_csv('https://raw.githubusercontent.com/owid/covid-19-data/master/public/data/owid-covid-data.csv',encoding='utf-8')\n",
    "        display(df_oxford.head(3))\n",
    "        df_oxford.to_csv(folder_path +\"/covid_data.csv\",encoding='utf-8',index=False)\n",
    "        df_oxford_simplified = df_oxford[['iso_code','continent','location','date','new_cases','new_deaths','new_vaccinations_smoothed','population']]\n",
    "        df_oxford_simplified.to_csv(folder_path +\"/covid_data_simplified.csv\",encoding='utf-8',index=False)\n",
    "        \n",
    "        df_oxford_vac_manufacture = pd.read_csv('https://raw.githubusercontent.com/owid/covid-19-data/master/public/data/vaccinations/vaccinations-by-manufacturer.csv',encoding='utf-8')\n",
    "        display(df_oxford_vac_manufacture.head(3))\n",
    "        df_oxford_vac_manufacture.to_csv(folder_path +\"/vaccine_volume.csv\",encoding='utf-8',index=False)\n",
    "        \n",
    "        #Vietnam vaccine dose usage\n",
    "        df_oxford_simplified.loc[df_oxford_simplified.location==\"Vietnam\",[\"date\",\"new_vaccinations_smoothed\"]].reset_index(drop=True).to_csv(folder_path+\"/vietnam_vaccine.csv\",encoding='utf-8',index=False)\n",
    "    except Exception:\n",
    "        traceback.print_exc()"
   ]
  },
  {
   "cell_type": "code",
   "execution_count": null,
   "id": "a39d6439-4232-41c5-8f4c-44dbb4349328",
   "metadata": {},
   "outputs": [],
   "source": [
    "#backup link\n",
    "#df_oxford = pd.read_csv('https://covid.ourworldindata.org/data/owid-covid-data.csv',encoding='utf-8')\n",
    "#df_oxford.head(3)"
   ]
  },
  {
   "cell_type": "markdown",
   "id": "de46a2cd-58b7-4073-a45f-56738cdf82d9",
   "metadata": {},
   "source": [
    "<ins><font size=\"5\">**1.1.4.World census data**</font></ins><a name=\"1.1.4\"></a><br>\n",
    "Reference link: [https://population.un.org/wpp/Download/Standard/CSV/](https://population.un.org/wpp/Download/Standard/CSV/)"
   ]
  },
  {
   "cell_type": "code",
   "execution_count": null,
   "id": "c09a74f8-06d5-4f68-bb07-1ac9e19a3753",
   "metadata": {},
   "outputs": [],
   "source": [
    "if basic_settings[2]==6 and continue_collect:\n",
    "    try:    \n",
    "        folder_path = \"database/Covid-19_raw_data/census_data\"\n",
    "\n",
    "        if os.path.exists(str(folder_path)):\n",
    "            pass\n",
    "        else:\n",
    "            os.makedirs(str(folder_path))\n",
    "            print(\"New folder created.\")\n",
    "        \n",
    "        data_df = pd.read_excel('https://population.un.org/wpp/Download/Files/1_Indicators%20(Standard)/EXCEL_FILES/1_General/WPP2022_GEN_F01_DEMOGRAPHIC_INDICATORS_COMPACT_REV1.xlsx',\n",
    "                       header=16,na_values='...')\n",
    "        \n",
    "        data_df = data_df[['Region, subregion, country or area *','Location code','ISO3 Alpha-code','Year','Type',\n",
    "                           'Total Population, as of 1 January (thousands)',\n",
    "                           'Crude Birth Rate (births per 1,000 population)',\n",
    "                           'Crude Death Rate (deaths per 1,000 population)']].copy()\n",
    "        data_df.dropna(subset='Year',inplace=True)\n",
    "        data_df.reset_index(drop=True,inplace=True)\n",
    "        data_df.iloc[:,3]=data_df.iloc[:,3].astype(np.int64)\n",
    "        \n",
    "        population_df = data_df.iloc[:,[0,1,2,3,4,5]].copy()\n",
    "        display(population_df.head(3))\n",
    "        population_df.to_csv(folder_path + \"/population.csv\",encoding=\"utf-8\",index=False)\n",
    "        \n",
    "        birth_df = data_df.iloc[:,[0,1,2,3,4,6]].copy()\n",
    "        display(birth_df.head(3))\n",
    "        birth_df.to_csv(folder_path + \"/crude_birth_rate.csv\",encoding=\"utf-8\",index=False)\n",
    "        \n",
    "        death_df = data_df.iloc[:,[0,1,2,3,4,7]].copy()\n",
    "        display(death_df.head(3))\n",
    "        death_df.to_csv(folder_path + \"/crude_death_rate.csv\",encoding=\"utf-8\",index=False)\n",
    "                \n",
    "        print(\"Data collected.\")\n",
    "    except Exception:\n",
    "        traceback.print_exc()"
   ]
  },
  {
   "cell_type": "markdown",
   "id": "04d1be55-6ce4-4be9-892c-ae9e96985eb8",
   "metadata": {},
   "source": [
    "<ins><font size=\"6\">**1.2.Covid-19 VietNam data**</font></ins><a name=\"1.2\"></a><br>\n",
    "<ins><font size=\"5\">**1.2.1.Population data**</font></ins><a name=\"1.2.1\"></a><br>\n",
    "Reference link: [https://www.gso.gov.vn/px-web-2/?pxid=V0201&theme=D%C3%A2n%20s%E1%BB%91%20v%C3%A0%20lao%20%C4%91%E1%BB%99ng](https://www.gso.gov.vn/px-web-2/?pxid=V0201&theme=D%C3%A2n%20s%E1%BB%91%20v%C3%A0%20lao%20%C4%91%E1%BB%99ng)\n"
   ]
  },
  {
   "cell_type": "code",
   "execution_count": null,
   "id": "559bd247-1224-4829-a571-dc3667ad4481",
   "metadata": {},
   "outputs": [],
   "source": [
    "if basic_settings[3]==6 and continue_collect:\n",
    "    try:\n",
    "        #request and process data\n",
    "        url = 'https://pxweb.gso.gov.vn/sq/86d18bc5-2888-413d-b749-44ea803e1c86'\n",
    "        vietnam_population = pd.read_excel('https://pxweb.gso.gov.vn/sq/86d18bc5-2888-413d-b749-44ea803e1c86',skiprows=2)\n",
    "\n",
    "        statistical_year = []\n",
    "        for year in vietnam_population.columns:\n",
    "            year_value = int(re.findall(r'\\d+', year)[0])\n",
    "            if year_value > 1990:\n",
    "                statistical_year.append(year_value)\n",
    "                statistical_year.append(year_value)\n",
    "                statistical_year.append(year_value)\n",
    "        dummy = vietnam_population.transpose().iloc[1:4,0].to_list()\n",
    "        year_parameters = []\n",
    "        for x in range(1,int((len(statistical_year)//3)+1)):\n",
    "            year_parameters.extend(dummy)\n",
    "            \n",
    "        #format data\n",
    "        vietnam_population = vietnam_population.transpose()\n",
    "        vietnam_population.drop(vietnam_population.columns[0],axis=1,inplace=True)\n",
    "        vietnam_population.columns=vietnam_population.iloc[0,:]\n",
    "        vietnam_population.drop(vietnam_population.index[0],axis=0,inplace = True)\n",
    "        vietnam_population.set_index([statistical_year,year_parameters],inplace=True)\n",
    "        vietnam_population.rename(columns={'Thanh Hoá':'Thanh Hóa','Khánh Hoà':'Khánh Hòa','Hoà Bình':'Hòa Bình','TP.Hồ Chí Minh':'TP. Hồ Chí Minh'},inplace=True)\n",
    "        vietnam_population.sort_index(axis=1,inplace=True)\n",
    "        vietnam_population.reset_index(inplace=True)\n",
    "        vietnam_population.rename(columns={\"level_0\":\"year\",\"level_1\":\"criteria\"},inplace=True)\n",
    "        vietnam_population.criteria.replace(['Diện tích(Km2)','Dân số trung bình (Nghìn người)','Mật độ dân số (Người/km2)'],\n",
    "                                      ['Area(km2)','Average population(thousand)','Population density(person/km2)'],inplace=True)\n",
    "        display(vietnam_population.head(3))\n",
    "        \n",
    "        #save the data\n",
    "        folder_path = \"database/Covid-19_raw_data/VietNamData\"\n",
    "        if os.path.exists(str(folder_path)):\n",
    "            pass\n",
    "        else:\n",
    "            os.makedirs(str(folder_path))\n",
    "            print(\"New folder created.\")\n",
    "        vietnam_population.to_csv(folder_path +\"/\"+\"vietnam_population.csv\",encoding=\"utf-8\",index=False)\n",
    "        print(\"Data collected.\")\n",
    "    except Exception:\n",
    "        traceback.print_exc()"
   ]
  },
  {
   "cell_type": "markdown",
   "id": "4c805b58-b8b3-4180-b81c-204ed5e0852a",
   "metadata": {},
   "source": [
    "<ins><font size=5>**1.2.2.Vaccine import and distribution**</font></ins><a name=\"1.2.2\"></a><br>\n",
    "**a. Distribution data**<a name=\"1.2.2.a\"></a><br>\n",
    "Reference link: [https://tiemchungcovid19.gov.vn/portal](https://tiemchungcovid19.gov.vn/portal)"
   ]
  },
  {
   "cell_type": "code",
   "execution_count": null,
   "id": "51f2dd84-210a-4355-b240-8256c22bafd8",
   "metadata": {},
   "outputs": [],
   "source": [
    "if continue_collect:\n",
    "    try:    \n",
    "        #request data\n",
    "        vaccine_distribution = requests.get('https://tiemchungcovid19.gov.vn/api/public/dashboard/vaccination-statistics/all')#,verify=False)\n",
    "        \n",
    "        #format data\n",
    "        df_vaccine_distribution = pd.json_normalize(vaccine_distribution.json())\n",
    "        df_vaccine_distribution = df_vaccine_distribution[['provinceName','population','popOverEighteen','totalOnceInjected','totalTwiceInjected','totalInjected','totalVaccineAllocated','totalVaccineAllocatedReality']]\n",
    "        df_vaccine_distribution.loc[df_vaccine_distribution.provinceName=='Hồ Chí Minh','provinceName']='TP. Hồ Chí Minh'\n",
    "        df_vaccine_distribution.loc[df_vaccine_distribution.provinceName=='Hoà Bình','provinceName']='Hòa Bình'\n",
    "        df_vaccine_distribution.sort_values('provinceName',inplace=True,ignore_index=True,kind = 'stable')\n",
    "        display(df_vaccine_distribution.head(3))\n",
    "        \n",
    "        #save data\n",
    "        folder_path = \"database/Covid-19_raw_data/VietNamData/vaccine_distribution\"\n",
    "        if os.path.exists(str(folder_path)):\n",
    "            pass\n",
    "        else:\n",
    "            os.makedirs(str(folder_path))\n",
    "            print(\"New folder created.\")\n",
    "        df_vaccine_distribution.to_csv(folder_path +\"/\"+ datetime.date.today().strftime(\"%Y-%m-%d\") +\".csv\",encoding=\"utf-8\",index=False)\n",
    "        print(\"Data collected.\")\n",
    "    except Exception:\n",
    "        traceback.print_exc()"
   ]
  },
  {
   "cell_type": "markdown",
   "id": "79825427-c12f-4ae0-ab5c-1c51a9a66b46",
   "metadata": {
    "tags": []
   },
   "source": [
    "**b. Import data**<a name=\"1.2.2.b\"></a><br>\n",
    "Reference link: [https://en.wikipedia.org/wiki/COVID-19_vaccination_in_Vietnam#cite_note-102](https://en.wikipedia.org/wiki/COVID-19_vaccination_in_Vietnam#cite_note-102)"
   ]
  },
  {
   "cell_type": "code",
   "execution_count": null,
   "id": "11a182ac-d94b-4f5b-8884-9c621b355b7c",
   "metadata": {},
   "outputs": [],
   "source": [
    "if basic_settings[4]==6 and continue_collect:\n",
    "    try:\n",
    "        #request data\n",
    "        vaccine_table = pd.read_html('https://en.wikipedia.org/wiki/COVID-19_vaccination_in_Vietnam#cite_note-102')[2]\n",
    "        display(vaccine_table.head(3))\n",
    "        \n",
    "        #format data\n",
    "        vaccine_import_df=vaccine_table.loc[~((vaccine_table['Doses available']==\"None\")|(vaccine_table['Doses available'].isnull()))].copy()\n",
    "        vaccine_import_df['Doses available'] = vaccine_import_df['Doses available'].apply(lambda x:re.sub(r\"\\[([A-Za-z0-9\\s]*)\\]\",'',x.strip())).str.replace(\",\",\"\").astype(int)\n",
    "        vaccine_import_df = vaccine_import_df[['Vaccine','Doses available']]\n",
    "        \n",
    "        #save data\n",
    "        folder_path = \"database/Covid-19_raw_data/VietNamData/vaccine_imported\"\n",
    "        if os.path.exists(str(folder_path)):\n",
    "            pass\n",
    "        else:\n",
    "            os.makedirs(str(folder_path))\n",
    "            print(\"New folder created.\")\n",
    "        vaccine_import_df.drop_duplicates(ignore_index=True,inplace=True)\n",
    "        vaccine_import_df.to_csv(folder_path +\"/\"+ datetime.date.today().strftime(\"%Y-%m-%d\") +\".csv\",encoding=\"utf-8\",index=False)\n",
    "        print(\"Data collected.\")\n",
    "    except Exception:\n",
    "        traceback.print_exc()\n",
    "else:\n",
    "    pass"
   ]
  },
  {
   "cell_type": "markdown",
   "id": "a2e09c6a-7bf8-4044-8890-49459a289c7a",
   "metadata": {},
   "source": [
    "<ins><font size=5>**1.2.3. Covid-19 data from Ministry of Health**</font></ins><a name=\"1.2.3\"></a><br>\n",
    "Reference link: [https://ncov.vncdc.gov.vn/](https://ncov.vncdc.gov.vn/)<br>\n",
    "(Since MoH website isn't very friendly for web scraping, some support functions will be used to help collecting the data instead of using requests.get)<br>\n",
    "**a. Total case in VietNam**<a name=\"1.2.3.a\"></a><br>\n",
    "* <ins>General input parameters</ins>"
   ]
  },
  {
   "cell_type": "code",
   "execution_count": null,
   "id": "0a03d654-a43f-4a37-8452-fff390437d0e",
   "metadata": {},
   "outputs": [],
   "source": [
    "wait_time=30\n",
    "attempt=3\n",
    "interval=10\n",
    "link = \"https://ncov.vncdc.gov.vn/\"\n",
    "api_country_case = \"https://ncov.vncdc.gov.vn/v2/vietnam/report-epi?\"\n",
    "search_scope = ['https://ncov.vncdc.gov.vn/v2/']\n",
    "\n",
    "\n",
    "request_obj = browser_request(wait_time=wait_time,\n",
    "                              attempt=attempt,\n",
    "                              interval=interval)"
   ]
  },
  {
   "cell_type": "markdown",
   "id": "4c9144d4-d1b5-41c1-8f4d-2e3de1ebd4af",
   "metadata": {},
   "source": [
    "* <ins>Processing & store data</ins>"
   ]
  },
  {
   "cell_type": "code",
   "execution_count": null,
   "id": "f67c3946-b82d-407b-a26c-a330e450287f",
   "metadata": {
    "tags": []
   },
   "outputs": [],
   "source": [
    "if continue_collect:\n",
    "    try:\n",
    "        #request API response        \n",
    "        json_object = request_obj.get_web_response(website_link=link,api=api_country_case,process_time=True,search_scope=search_scope)\n",
    "        #format data\n",
    "        df_vncdc_country_case = pd.json_normalize(json_object,record_path=['report','data'],meta=[['report','name'],['report','code']])\n",
    "        df_vncdc_country_case[0] = pd.to_datetime(df_vncdc_country_case[0],unit='ms').dt.date\n",
    "        df_vncdc_country_case.rename(columns={0:\"date\",1:\"case\",\"report.name\":\"case_origin\",\"report.code\":\"code\"},inplace=True)\n",
    "        df_vncdc_country_case.loc[df_vncdc_country_case.code==\"avg_case\",'code']=\"7_days_avg_case\"\n",
    "        if (df_vncdc_country_case.date.head(1)==datetime.date(2020,1,22)).all():  ###for some reason the date keep move back 1 day if you request the data at late night\n",
    "            df_vncdc_country_case.date=df_vncdc_country_case.date+datetime.timedelta(1)\n",
    "        df_vncdc_country_case.date=df_vncdc_country_case.date.astype(str)\n",
    "        display(df_vncdc_country_case.head(3))\n",
    "        \n",
    "        #save data\n",
    "        store_dataframe(df_vncdc_country_case,\"database/Covid-19_raw_data/VietNamData/Ministry_of_Health_data/total_case\",auto_process=auto_process,encoding='utf-8')\n",
    "    except Exception:\n",
    "        traceback.print_exc()"
   ]
  },
  {
   "cell_type": "markdown",
   "id": "17bc80ea-f9c0-4d51-9459-67e9d16314fd",
   "metadata": {},
   "source": [
    "**b. Case by province**<a name=\"1.2.3.b\"></a><br>\n",
    "* <ins>General input parameters</ins>"
   ]
  },
  {
   "cell_type": "code",
   "execution_count": null,
   "id": "a82a4c46-d0ef-4ad5-b0e5-4ed812eb8499",
   "metadata": {},
   "outputs": [],
   "source": [
    "wait_time=25\n",
    "attempt=3\n",
    "interval=5\n",
    "\n",
    "link = \"https://ncov.vncdc.gov.vn/viet-nam-full.html?startTime={}&endTime{}=&provinces=&districts=&tabKey=0\".format('2020-01-01','')\n",
    "api_province_case = \"https://ncov.vncdc.gov.vn/v2/vietnam/by-current?\"\n",
    "search_scope = ['https://ncov.vncdc.gov.vn/v2/']\n",
    "\n",
    "request_obj = browser_request(wait_time=wait_time,\n",
    "                              attempt=attempt,\n",
    "                              interval=interval)"
   ]
  },
  {
   "cell_type": "markdown",
   "id": "3adf551f-5e6d-4ec4-8ab3-a5a6797320c6",
   "metadata": {},
   "source": [
    "* <ins>Processing & store data</ins>"
   ]
  },
  {
   "cell_type": "code",
   "execution_count": null,
   "id": "ec7ff116-fad5-4ad9-bec8-f24b8abe15ab",
   "metadata": {},
   "outputs": [],
   "source": [
    "if continue_collect:\n",
    "    try:\n",
    "        #request API response\n",
    "        json_object = request_obj.get_web_response(website_link=link,api=api_province_case,process_time=True,search_scope=search_scope)  \n",
    "        \n",
    "        #format data\n",
    "        df_vncdc_province_case = pd.json_normalize(json_object)\n",
    "            ##remove path of nested reports from column name\n",
    "        df_vncdc_province_case.columns = df_vncdc_province_case.columns.str.replace('data.','',regex=True)\n",
    "\n",
    "            ##Synchronize all province name with other dataframe\n",
    "        list1 = df_vncdc_province_case.tinh.apply(lambda x:str.replace(x,'Thành phố ','')).apply(lambda x:str.replace(x,'Tỉnh ','')).apply(lambda x:str.replace(x,'Hồ Chí Minh','TP. Hồ Chí Minh')).to_list()\n",
    "        df_vncdc_province_case.tinh = list1\n",
    "        df_vncdc_province_case.loc[df_vncdc_province_case.tinh=='Hoà Bình','tinh']='Hòa Bình'\n",
    "        df_vncdc_province_case=df_vncdc_province_case.loc[~(df_vncdc_province_case.tinh==\"Chưa rõ\")]\n",
    "        df_vncdc_province_case.sort_values(by='tinh',inplace=True,ignore_index=True,kind = 'stable')\n",
    "            ##drop some columns to keep data consistently as time sery\n",
    "        df_vncdc_province_case.drop(df_vncdc_province_case.columns[[2,3,4,6,7,8,9,10,11]],axis=1,inplace=True)\n",
    "        df_vncdc_province_case.rename(columns={\"tinh\":\"provinceName\"},inplace=True)\n",
    "        display(df_vncdc_province_case.head(3))\n",
    "        \n",
    "        #save data\n",
    "        store_dataframe(df_vncdc_province_case,\"database/Covid-19_raw_data/VietNamData/Ministry_of_Health_data/case_by_province\",horizontal_sery=True,auto_process=auto_process,encoding='utf-8')\n",
    "    except Exception:\n",
    "        traceback.print_exc()"
   ]
  },
  {
   "cell_type": "markdown",
   "id": "eadf3798-ecce-460b-9481-e09e5d955588",
   "metadata": {},
   "source": [
    "**c. Case by age/gender**<a name=\"1.2.3.c\"></a><br>\n",
    "* <ins>General input parameters</ins>"
   ]
  },
  {
   "cell_type": "code",
   "execution_count": null,
   "id": "7f98775b-445a-4e61-957a-d823a4133391",
   "metadata": {},
   "outputs": [],
   "source": [
    "wait_time=20\n",
    "attempt=3\n",
    "interval=5\n",
    "\n",
    "link = \"https://ncov.vncdc.gov.vn/viet-nam-full.html?startTime={}&endTime{}=&provinces=&districts=&tabKey=0\".format('2020-01-01','')\n",
    "api_age_case = \"https://ncov.vncdc.gov.vn/v2/vietnam/dotuoi-2?\"\n",
    "search_scope = ['https://ncov.vncdc.gov.vn/v2/']\n",
    "\n",
    "request_obj = browser_request(wait_time=wait_time,\n",
    "                              attempt=attempt,\n",
    "                              interval=interval)"
   ]
  },
  {
   "cell_type": "markdown",
   "id": "d8b5ed64-5f60-4ff1-8cb4-940a470f7595",
   "metadata": {},
   "source": [
    "* <ins>Processing & store data</ins>"
   ]
  },
  {
   "cell_type": "code",
   "execution_count": null,
   "id": "03a279b2-cdd1-4478-bf2e-1a137343ff9e",
   "metadata": {},
   "outputs": [],
   "source": [
    "if continue_collect:\n",
    "    try:\n",
    "        #request API response\n",
    "        json_object = request_obj.get_web_response(website_link=link,api=api_age_case,process_time=True,search_scope=search_scope) \n",
    "        \n",
    "        #format data\n",
    "            ##change record format for json normalize\n",
    "        for item in json_object:\n",
    "            for data in item['data']:\n",
    "                replace_item = []\n",
    "                for x,y in zip(data['data'].keys(),data['data'].values()):\n",
    "                    replace_item.append([x,y])\n",
    "                data['data']=replace_item\n",
    "                \n",
    "            ##remove path of nested reports from column name\n",
    "        df_vncdc_age_case = pd.json_normalize(json_object,record_path=['data','data'],meta=[['name'],['data','type']])\n",
    "        df_vncdc_age_case.rename(columns={0:\"age_range\",1:\"case\",\"name\":\"distribution\",\"data.type\":\"gender\"},inplace=True)\n",
    "        df_vncdc_age_case.loc[df_vncdc_age_case.distribution==\"Nhóm 1\",'distribution']=\"Group 1\"\n",
    "        df_vncdc_age_case.loc[df_vncdc_age_case.distribution==\"Nhóm 2\",'distribution']=\"Group 3\"\n",
    "        df_vncdc_age_case.loc[df_vncdc_age_case.distribution==\"Nhóm 3\",'distribution']=\"Group 3\"\n",
    "        df_vncdc_age_case.loc[df_vncdc_age_case.gender==\"Nam\",'gender']=\"Male\"\n",
    "        df_vncdc_age_case.loc[df_vncdc_age_case.gender==\"Nữ\",'gender']=\"Female\"\n",
    "        display(df_vncdc_age_case.head(3))\n",
    "        \n",
    "        #save data\n",
    "        store_dataframe(df_vncdc_age_case,\"database/Covid-19_raw_data/VietNamData/Ministry_of_Health_data/case_by_age\",auto_process=auto_process,encoding='utf-8')\n",
    "    except Exception as error:\n",
    "        traceback.print_exc()"
   ]
  },
  {
   "cell_type": "markdown",
   "id": "5b296544-da05-49a6-91ab-4bbbf5152082",
   "metadata": {},
   "source": [
    "**d. Death case by province**<a name=\"1.2.3.d\"></a><br>\n",
    "* <ins>Input parameters for province code</ins>"
   ]
  },
  {
   "cell_type": "code",
   "execution_count": null,
   "id": "ae6e039e-2a9e-487d-941a-75a9c6a2cdc9",
   "metadata": {},
   "outputs": [],
   "source": [
    "wait_time=20\n",
    "attempt=3\n",
    "interval=5\n",
    "\n",
    "link = \"https://ncov.vncdc.gov.vn/viet-nam-full.html?startTime={}&endTime{}=&provinces=&districts=&tabKey=0\".format('2020-01-01','')\n",
    "api_province_code = \"https://ncov.vncdc.gov.vn/v2/vietnam/provinces?\"\n",
    "search_scope = ['https://ncov.vncdc.gov.vn/v2/']\n",
    "\n",
    "request_obj = browser_request(wait_time=wait_time,\n",
    "                              attempt=attempt,\n",
    "                              interval=interval)"
   ]
  },
  {
   "cell_type": "markdown",
   "id": "11b3e618-b3b0-490a-8c4c-c475f6a1801a",
   "metadata": {},
   "source": [
    "* <ins>Processing and store province code</ins>"
   ]
  },
  {
   "cell_type": "code",
   "execution_count": null,
   "id": "443457d3-b7b0-4b3d-9919-b07a950dc108",
   "metadata": {},
   "outputs": [],
   "source": [
    "if basic_settings[5]==6 and continue_collect:\n",
    "    try:    \n",
    "        #request API response\n",
    "        json_object = request_obj.get_web_response(website_link=link,api=api_province_code,process_time=True,search_scope=search_scope) \n",
    "        \n",
    "        #format data\n",
    "        df_province_code = pd.json_normalize(json_object)\n",
    "        df_province_code = df_province_code[['label','value']]\n",
    "        df_province_code.columns = ['province','id']\n",
    "            ##Synchronize all province name with other dataframe\n",
    "        list1 = df_province_code.province.apply(lambda x:str.replace(x,'Thành phố ','')).apply(lambda x:str.replace(x,'Tỉnh ','')).apply(lambda x:str.replace(x,'Hồ Chí Minh','TP. Hồ Chí Minh')).to_list()\n",
    "        df_province_code.province = list1\n",
    "        df_province_code.loc[df_province_code.province=='Hoà Bình','province']='Hòa Bình'\n",
    "        df_province_code=df_province_code.loc[~(df_province_code.province==\"Chưa rõ\")]\n",
    "        df_province_code.sort_values(by='province',inplace=True,ignore_index=True,kind = 'stable')\n",
    "        display(df_province_code.head(3))\n",
    "        \n",
    "        #save data\n",
    "        folder_path = \"database/Covid-19_raw_data/VietNamData/Ministry_of_Health_data\"\n",
    "        if os.path.exists(str(folder_path)):\n",
    "            pass\n",
    "        else:\n",
    "            os.makedirs(str(folder_path))\n",
    "            print(\"New folder created.\")\n",
    "        df_province_code.to_csv(folder_path +\"/\"+ \"province_code.csv\",encoding=\"utf-8\",index=False)\n",
    "        print(\"Data collected.\")\n",
    "    except Exception:\n",
    "        traceback.print_exc()"
   ]
  },
  {
   "cell_type": "markdown",
   "id": "6e20b6cd-5c5f-49a5-9e54-d1b2251d74d8",
   "metadata": {},
   "source": [
    "* <ins>Input parameters for total death data</ins>"
   ]
  },
  {
   "cell_type": "code",
   "execution_count": null,
   "id": "8bd37254-2737-46c1-8b45-d5c7e930b56d",
   "metadata": {},
   "outputs": [],
   "source": [
    "link = \"https://ncov.vncdc.gov.vn/viet-nam-full.html?startTime={}&endTime{}=&provinces=&districts=&tabKey=0\".format('2020-01-01','')\n",
    "api_total_death = \"https://ncov.vncdc.gov.vn/v2/vietnam/report-epi-5?\"\n",
    "search_scope = ['https://ncov.vncdc.gov.vn/v2/']"
   ]
  },
  {
   "cell_type": "markdown",
   "id": "bb77a82a-4d3b-4637-bf43-1ade0ffffd77",
   "metadata": {},
   "source": [
    "* <ins>Processing</ins>"
   ]
  },
  {
   "cell_type": "code",
   "execution_count": null,
   "id": "860fcedd-6b18-4544-8a1a-3cb8745fdda7",
   "metadata": {},
   "outputs": [],
   "source": [
    "if continue_collect:\n",
    "    try:\n",
    "        #request total casualty case API response \n",
    "        json_object = request_obj.get_web_response(website_link=link,api=api_total_death,process_time=True,search_scope=search_scope) \n",
    "            \n",
    "        #format data\n",
    "        df_cumulative_death = pd.json_normalize(json_object['report'][2],record_path = 'data')\n",
    "        df_cumulative_death[0] = pd.to_datetime(df_cumulative_death[0],unit='ms').dt.date\n",
    "        df_cumulative_death.rename(columns={0:\"date\",1:\"VN_death_case\"},inplace=True)\n",
    "\n",
    "        df_cumulative_death2 = pd.json_normalize(json_object['report'][4],record_path = 'data')\n",
    "        df_cumulative_death2[0] = pd.to_datetime(df_cumulative_death2[0],unit='ms').dt.date\n",
    "        df_cumulative_death2.rename(columns={0:\"date\",1:\"VN_days_death_avg\"},inplace=True)\n",
    "\n",
    "        df_cumulative_death=df_cumulative_death.merge(df_cumulative_death2,on='date',how='outer')\n",
    "        display(df_cumulative_death.head(3))\n",
    "    except Exception:\n",
    "        traceback.print_exc()"
   ]
  },
  {
   "cell_type": "markdown",
   "id": "d7fafa6f-6a20-4c56-8001-59e6497c07a2",
   "metadata": {},
   "source": [
    "* <ins>Input parameters for death data by province</ins>"
   ]
  },
  {
   "cell_type": "code",
   "execution_count": null,
   "id": "294573c4-140c-441e-97e0-8237c5379986",
   "metadata": {},
   "outputs": [],
   "source": [
    "#general input parameters\n",
    "wait_time=15\n",
    "attempt=3\n",
    "interval=5\n",
    "\n",
    "link = \"https://ncov.vncdc.gov.vn/viet-nam-full.html?startTime=2020-01-01&endTime=&provinces={}&districts=&tabKey=0\"\n",
    "api_province_death = \"https://ncov.vncdc.gov.vn/v2/vietnam/report-epi-5?\"\n",
    "search_scope = ['https://ncov.vncdc.gov.vn/v2/']\n",
    "\n",
    "request_obj = browser_request(wait_time=wait_time,\n",
    "                              attempt=attempt,\n",
    "                              interval=interval)\n",
    "\n",
    "vn_max_worker = 5 #dont set too high, will slow things down"
   ]
  },
  {
   "cell_type": "markdown",
   "id": "d83f0e44-953c-4a9d-81e6-f79b16f55ba3",
   "metadata": {},
   "source": [
    "* <ins>Processing</ins>"
   ]
  },
  {
   "cell_type": "code",
   "execution_count": null,
   "id": "4e389f35-6ec5-4dd7-9cd0-44d2cb348c1d",
   "metadata": {},
   "outputs": [],
   "source": [
    "start_cell = time.perf_counter()\n",
    "\n",
    "#collect casualty data by province/ In case of failure due to network connection of host, user can re-run the cell to try collecting data again\n",
    "if continue_collect:\n",
    "    vn_manager = Manager()\n",
    "    vn_counter= vn_manager.Array('i',[0,0])\n",
    "    vn_time_list = vn_manager.list([])\n",
    "    vn_error_dict = vn_manager.dict()\n",
    "    vn_shared_output = vn_manager.Namespace()\n",
    "    vn_shared_output.shared_df = pd.DataFrame({'date':[]})\n",
    "    vn_lock = vn_manager.Lock()\n",
    "    try:\n",
    "        run_cell=True    \n",
    "        if 'df_province_code' in globals():\n",
    "            province_list = df_province_code.values.tolist()\n",
    "        else:\n",
    "            df_province_code=pd.read_csv(\"database/Covid-19_raw_data/VietNamData/Ministry_of_Health_data/province_code.csv\",encoding='utf-8')\n",
    "            province_list = df_province_code.values.tolist()\n",
    "            \n",
    "        try:\n",
    "            if df_dummy.size != df_cumulative_death.size:\n",
    "                answer = message_box(\"Data collection request\",\n",
    "                                     \"Are you sure that you want to try to collect VietNam casualty data by province, \"\\\n",
    "                                     \"since the Dataframe was just collected?\",\n",
    "                                     4+48+4096)               \n",
    "                if answer==6:\n",
    "                    df_dummy=df_cumulative_death.copy()\n",
    "                    run_cell=True\n",
    "                else:\n",
    "                    run_cell=False\n",
    "        except NameError:\n",
    "                df_dummy=df_cumulative_death.copy()\n",
    "        except Exception as error:\n",
    "            raise error\n",
    "                \n",
    "        if run_cell:\n",
    "            worker_func = partial(vn_casualty_wrapper_func,\n",
    "                                  shared_count=vn_counter,\n",
    "                                  time_list=vn_time_list,\n",
    "                                  error_dict=vn_error_dict,\n",
    "                                  shared_output=vn_shared_output,\n",
    "                                  lock=vn_lock,\n",
    "                                  request_object=request_obj,\n",
    "                                  link = link,\n",
    "                                  api = api_province_death,\n",
    "                                  search_scope = search_scope)\n",
    "            executor= Pool(processes=vn_max_worker)\n",
    "            start_worker = time.perf_counter()\n",
    "            pool_result = executor.map_async(worker_func,province_list)\n",
    "            \n",
    "            max_province = len(province_list)\n",
    "            while vn_counter[0]<max_province:\n",
    "                time.sleep(1)\n",
    "                n_done = vn_counter[0]\n",
    "                n_wait = max_province\n",
    "                total_time = round(sum(vn_time_list),2)\n",
    "                if n_done!=0:\n",
    "                    avg_time = round(total_time/n_done,2)\n",
    "\n",
    "                if n_done!=0:\n",
    "                    remain_province = n_wait - n_done\n",
    "                    remain_time = round(remain_province*avg_time,2)\n",
    "                    real_remain = round(remain_time/vn_max_worker,2)\n",
    "                else:\n",
    "                    remain_province = \"estimating...\"\n",
    "                    remain_time = \"-- \"\n",
    "                    real_remain = \"-- \"\n",
    "\n",
    "                elapsed_time = round(time.perf_counter()-start_worker,2)\n",
    "                a_string = (f\"Elapsed time: {elapsed_time}s    \" +\n",
    "                            f\"Total workers processing time: {total_time}s    \" + \n",
    "                            f\" Remaining provinces: {remain_province}    \" + \n",
    "                            f\" Estimated remaining worker time: {remain_time}s    \" +\n",
    "                            f\" Estimated remaining real time: {real_remain}s\")\n",
    "\n",
    "                print(\" \"*(len(a_string)+10),end=\"\\r\")\n",
    "                print(a_string,end=\"\\r\")\n",
    "            \n",
    "            print(\" \"*(len(a_string)+10),end=\"\\r\")\n",
    "            print(\"---Casualty data collecting completed---\")\n",
    "            print(f\"Number of workers with error happened: {vn_counter[1]}\")\n",
    "            print(f\"Total worker processing time taken: {round(sum(vn_time_list),2)}s\")\n",
    "            \n",
    "            result_df = vn_shared_output.shared_df.copy()\n",
    "            sorted_col = np.append(['date'],np.sort(result_df.columns[1:],kind='stable'))\n",
    "            result_df = result_df[sorted_col]\n",
    "            df_dummy = df_dummy.merge(result_df,on=\"date\",how='outer')\n",
    "            \n",
    "            vn_casualty_error_result = dict(vn_error_dict)\n",
    "            vn_casualty_time = list(vn_time_list)\n",
    "            \n",
    "            executor.close()\n",
    "            executor.join()\n",
    "    except Exception:\n",
    "        print(f\"Error was found. Data for {vn_counter[0]} provinces was collected before the error.\") \n",
    "        traceback.print_exc()\n",
    "    finally:\n",
    "        vn_manager.shutdown()\n",
    "        \n",
    "end_cell = time.perf_counter()\n",
    "print(f\"Total elapsed time on this code block: {round(end_cell-start_cell,2)}s\")"
   ]
  },
  {
   "cell_type": "markdown",
   "id": "d6565cbf-34bb-48fa-acb7-45a6d8dc965d",
   "metadata": {},
   "source": [
    "* <ins>Store death data</ins>"
   ]
  },
  {
   "cell_type": "code",
   "execution_count": null,
   "id": "750711f2-1f38-4c9f-89bb-bb38b9b579e2",
   "metadata": {},
   "outputs": [],
   "source": [
    "if continue_collect:\n",
    "    try:\n",
    "        #format data\n",
    "        df_province_death=df_dummy.fillna(0)\n",
    "        if (df_province_death.date.head(1)==datetime.date(2020,1,22)).all():  ###for some reason the date keep move back 1 day if you request the data at late night\n",
    "            df_province_death.date=df_province_death.date+datetime.timedelta(1)\n",
    "        df_province_death.date=df_province_death.date.astype(str)\n",
    "        df_province_death[df_province_death.columns[1:]]=df_province_death[df_province_death.columns[1:]].astype(int)\n",
    "        #drop duplication if any\n",
    "        df_province_death.drop_duplicates(inplace=True,ignore_index=True) #subset=[\"date\",\"VN_death_case\",\"VN_days_death_avg\"] if error in duplicated found\n",
    "        \n",
    "        display(df_province_death.head(3))\n",
    "\n",
    "        #save data\n",
    "        store_dataframe(df_province_death,\"database/Covid-19_raw_data/VietNamData/Ministry_of_Health_data/death_data\",auto_process=auto_process,encoding='utf-8',subset=[\"date\",\"VN_death_case\",\"VN_days_death_avg\"])\n",
    "    except Exception:\n",
    "        traceback.print_exc()"
   ]
  },
  {
   "cell_type": "markdown",
   "id": "6747dcab-5a87-4d51-9cf4-3921de747f2d",
   "metadata": {},
   "source": [
    "**b. Case by summary**"
   ]
  },
  {
   "cell_type": "markdown",
   "id": "92a80162-d0f4-49df-a4d0-b10716790ff3",
   "metadata": {},
   "source": [
    "<font size=6>**1.3.Robust weather condition**</font><a name=\"1.3\"></a><br>\n",
    "Reference link:<br> \n",
    "[https://worldweather.wmo.int/en/dataguide.html](https://worldweather.wmo.int/en/dataguide.html)<br>\n",
    "[http://data.un.org/Data.aspx?d=CLINO&f=ElementCode%3A16](http://data.un.org/Data.aspx?d=CLINO&f=ElementCode%3A16)<br>\n",
    "[https://www.ncdc.noaa.gov/cdo-web/webservices/v2#gettingStarted](https://www.ncdc.noaa.gov/cdo-web/webservices/v2#gettingStarted)<br>\n",
    "<font size=5><ins>**1.3.1. Average annual wind speed**</ins></font><a name=\"1.3.1\"></a><br>\n",
    "Reference link:<br> \n",
    "[http://data.un.org/Data.aspx?d=CLINO&f=ElementCode%3A16](http://data.un.org/Data.aspx?d=CLINO&f=ElementCode%3A16)<br>\n",
    "The purpose is to check whenever the weather condition (average temperature, wind speed) has an effect on Covid-19 tranmission rate. Robust weather conditions will be collected to check if there is a correlation between them before further analyzing."
   ]
  },
  {
   "cell_type": "markdown",
   "id": "8a775214-f6c2-4630-a66d-bb1782567b69",
   "metadata": {},
   "source": [
    "* <ins>Processing & store wind data</ins>"
   ]
  },
  {
   "cell_type": "code",
   "execution_count": null,
   "id": "38444f2f-b60a-4a75-bdf8-11c3721f90b0",
   "metadata": {},
   "outputs": [],
   "source": [
    "if continue_collect and basic_settings[6]==6:\n",
    "    try:\n",
    "        #request data\n",
    "        df_wind_data = pd.read_csv(\"http://data.un.org/Handlers/DownloadHandler.ashx?DataFilter=ElementCode:16;StatisticCode:01&DataMartId=CLINO&Format=csv&c=1,2,10,18,19,20,22,24,26,28,30,32,34,36,38,40,42,44,46&s=CountryName:asc,WmoStationNumber:asc,StatisticCode:asc\",compression=\"zip\")\n",
    "\n",
    "        #format data\n",
    "        df_wind_data.drop(df_wind_data.columns[[6,8,10,12,14,16,18,20,22,24,26,28,30,32]],inplace=True,axis=1)\n",
    "        df_wind_data = df_wind_data[:-2]\n",
    "        df_wind_data=df_wind_data.loc[~(df_wind_data[\"Annual NCDC Computed Value\"]==-9999.9)]\n",
    "        df_wind_data = df_wind_data[[\"Country or Territory Code\",\"Country or Territory\",\"Unit\",\"Annual NCDC Computed Value\"]].groupby([\"Country or Territory Code\",\"Country or Territory\",\"Unit\"]).mean().round(2)\n",
    "\n",
    "        #save the data\n",
    "        folder_path = \"database/Covid-19_raw_data/robust_weather_condition\"\n",
    "        if os.path.exists(str(folder_path)):\n",
    "            pass\n",
    "        else:\n",
    "            os.makedirs(str(folder_path))\n",
    "            print(\"New folder created.\")\n",
    "        display(df_wind_data.head(3))\n",
    "        df_wind_data.to_csv(folder_path +\"/\"+\"average_wind_speed.csv\",encoding=\"utf-8\")\n",
    "        print(\"Data collected.\")\n",
    "    except Exception:\n",
    "        traceback.print_exc()"
   ]
  },
  {
   "cell_type": "markdown",
   "id": "b66d9f5a-75f4-414e-b51b-6d600b5d683a",
   "metadata": {},
   "source": [
    "<font size=5><ins>**1.3.2. Average annual temperature**</ins></font><a name=\"1.3.2\"></a><br>\n",
    "Reference link:<br> \n",
    "[https://datahelpdesk.worldbank.org/knowledgebase/articles/902061-climate-data-api](https://datahelpdesk.worldbank.org/knowledgebase/articles/902061-climate-data-api)<br>\n",
    "[https://climateknowledgeportal.worldbank.org/download-data](https://climateknowledgeportal.worldbank.org/download-data)<br>\n",
    "* <ins>General input parameters</ins>"
   ]
  },
  {
   "cell_type": "code",
   "execution_count": null,
   "id": "47e65b8c-c919-4af5-b5de-0622082d4476",
   "metadata": {},
   "outputs": [],
   "source": [
    "link = \"https://climateknowledgeportal.worldbank.org/cru/cru/timeseries/tas/monthly/climatology/historical/country/{}\"\n",
    "temp_max_worker = 5"
   ]
  },
  {
   "cell_type": "markdown",
   "id": "01132184-5995-4b7f-8ec5-666b7abb7e3f",
   "metadata": {},
   "source": [
    "* <ins>Processing</ins>"
   ]
  },
  {
   "cell_type": "code",
   "execution_count": null,
   "id": "cabf2dcd-6581-4a42-8619-f83dc6c938b8",
   "metadata": {},
   "outputs": [],
   "source": [
    "start_cell = time.perf_counter()\n",
    "\n",
    "if continue_collect and basic_settings[7]==6:\n",
    "    \n",
    "    temp_manager = Manager()\n",
    "    temp_counter= temp_manager.Array('i',[0,0])\n",
    "    temp_time_list = temp_manager.list([])\n",
    "    temp_error_dict = temp_manager.dict()\n",
    "    temp_shared_output = temp_manager.Namespace()\n",
    "    temp_shared_output.shared_df = pd.DataFrame()\n",
    "    temp_lock = temp_manager.Lock()\n",
    "    \n",
    "    try:\n",
    "        #get country ISO3 code for API request\n",
    "        if 'df_oxford' in globals():\n",
    "            code_list = df_oxford[[\"iso_code\",\"location\"]].drop_duplicates().values.tolist()\n",
    "            code_list = [code for code in code_list if not re.match(r\"OWID_\",code[0])]\n",
    "        else:\n",
    "            code_list = read_stored_data(\"database/Covid-19_raw_data/OurWorldinData/covid_data\")[[\"iso_code\",\"location\"]].drop_duplicates().values.tolist()\n",
    "            code_list = [code for code in code_list if not re.match(r\"OWID_\",code[0])]\n",
    "        \n",
    "        worker_func = partial(temperature_data_wrapper_func,\n",
    "                              shared_count=temp_counter,\n",
    "                              time_list=temp_time_list,\n",
    "                              error_dict=temp_error_dict,\n",
    "                              shared_output=temp_shared_output,\n",
    "                              lock=temp_lock,\n",
    "                              link = link)\n",
    "        \n",
    "        executor= Pool(processes=temp_max_worker)\n",
    "        start_worker = time.perf_counter()\n",
    "        pool_result = executor.map_async(worker_func,code_list)\n",
    "        \n",
    "        max_country = len(code_list)\n",
    "        while temp_counter[0]<max_country:\n",
    "            time.sleep(1)\n",
    "            n_done = temp_counter[0]\n",
    "            n_wait = max_country\n",
    "            total_time = round(sum(temp_time_list),2)\n",
    "            if n_done!=0:\n",
    "                avg_time = round(total_time/n_done,2)\n",
    "\n",
    "            if n_done!=0:\n",
    "                remain_country = n_wait - n_done\n",
    "                remain_time = round(remain_country*avg_time,2)\n",
    "                real_remain = round(remain_time/temp_max_worker,2)\n",
    "            else:\n",
    "                remain_country = \"estimating...\"\n",
    "                remain_time = \"-- \"\n",
    "                real_remain = \"-- \"\n",
    "\n",
    "            elapsed_time = round(time.perf_counter()-start_worker,2)\n",
    "            a_string = (f\"Elapsed time: {elapsed_time}s    \" +\n",
    "                        f\"Total workers processing time: {total_time}s    \" + \n",
    "                        f\" Remaining countries: {remain_country}    \" + \n",
    "                        f\" Estimated remaining worker time: {remain_time}s    \" +\n",
    "                        f\" Estimated remaining real time: {real_remain}s\")\n",
    "\n",
    "            print(\" \"*(len(a_string)+10),end=\"\\r\")\n",
    "            print(a_string,end=\"\\r\")\n",
    "        \n",
    "        print(\" \"*(len(a_string)+10),end=\"\\r\")\n",
    "        print(\"---Temperature data collecting completed---\")\n",
    "        print(f\"Number of workers with error happened: {temp_counter[1]}\")\n",
    "        print(f\"Total worker processing time taken: {round(sum(temp_time_list),2)}s\")\n",
    "        \n",
    "        df_temp_data = temp_shared_output.shared_df.copy()\n",
    "        df_temp_data.sort_values(['iso_code','Year'],inplace=True,ignore_index=True)\n",
    "        temp_error_result = dict(temp_error_dict)\n",
    "        temp_time = list(temp_time_list)\n",
    "        \n",
    "        executor.close()\n",
    "        executor.join()\n",
    "    except Exception:\n",
    "        print(f\"Error was found. Temperature data for {temp_counter[0]} countries were collected before the error.\") \n",
    "        traceback.print_exc()\n",
    "    finally:\n",
    "        temp_manager.shutdown()\n",
    "        \n",
    "end_cell = time.perf_counter()\n",
    "print(f\"Total elapsed time on this code block: {round(end_cell-start_cell,2)}s\")"
   ]
  },
  {
   "cell_type": "markdown",
   "id": "01dd8dda-9611-4fb2-b977-aaf83443bf1c",
   "metadata": {},
   "source": [
    "* <ins>Store temperature data</ins>"
   ]
  },
  {
   "cell_type": "code",
   "execution_count": null,
   "id": "7a28352b-dbd4-4526-8dce-83dbe5d930ea",
   "metadata": {},
   "outputs": [],
   "source": [
    "if continue_collect and basic_settings[7]==6:\n",
    "    try:\n",
    "        #save temperature data\n",
    "        folder_path = \"database/Covid-19_raw_data/robust_weather_condition\"\n",
    "        if os.path.exists(str(folder_path)):\n",
    "            pass\n",
    "        else:\n",
    "            os.makedirs(str(folder_path))\n",
    "            print(\"New folder created.\")\n",
    "        display(df_temp_data.head(3))\n",
    "        df_temp_data.to_csv(folder_path +\"/\"+\"average_temperature.csv\",encoding=\"utf-8\",index=False)\n",
    "        print(\"Data collected.\")\n",
    "    except Exception:\n",
    "        traceback.print_exc()"
   ]
  },
  {
   "cell_type": "markdown",
   "id": "be36e3fc-ea43-46a3-b806-8aa3fe8fb978",
   "metadata": {},
   "source": [
    "<font size=6>**1.4.Updated time**</font><a name=\"1.4\"></a><br>\n",
    "Latest update time of data"
   ]
  },
  {
   "cell_type": "code",
   "execution_count": null,
   "id": "927d1443-66a1-4cf5-9677-b09e22be487f",
   "metadata": {},
   "outputs": [],
   "source": [
    "if continue_collect:\n",
    "    try:\n",
    "        #save updated time\n",
    "        folder_path = \"database/Covid-19_raw_data\"\n",
    "        if os.path.exists(str(folder_path)):\n",
    "            pass\n",
    "        else:\n",
    "            os.makedirs(str(folder_path))\n",
    "            print(\"New folder created.\")\n",
    "        time_df = pd.DataFrame({'last_modified':[datetime.datetime.now().timestamp()]})\n",
    "        display(time_df)\n",
    "        time_df.to_csv(folder_path+\"/\"+\"modified_model_data_time.csv\",encoding=\"utf-8\",index=False)\n",
    "        time_df.to_csv(folder_path+\"/\"+\"modified_census_data_time.csv\",encoding=\"utf-8\",index=False) #NOTE: comment out this line if census data is not refresh or changed for subsequence running\n",
    "        print(\"Modification date updated.\")\n",
    "    except Exception:\n",
    "        traceback.print_exc()"
   ]
  },
  {
   "cell_type": "code",
   "execution_count": null,
   "id": "6e340691-fb69-4ec9-aaaf-4c5610efff9e",
   "metadata": {},
   "outputs": [],
   "source": []
  }
 ],
 "metadata": {
  "kernelspec": {
   "display_name": "Python 3 (ipykernel)",
   "language": "python",
   "name": "python3"
  },
  "language_info": {
   "codemirror_mode": {
    "name": "ipython",
    "version": 3
   },
   "file_extension": ".py",
   "mimetype": "text/x-python",
   "name": "python",
   "nbconvert_exporter": "python",
   "pygments_lexer": "ipython3",
   "version": "3.9.12"
  }
 },
 "nbformat": 4,
 "nbformat_minor": 5
}
